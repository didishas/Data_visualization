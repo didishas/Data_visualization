{
 "cells": [
  {
   "cell_type": "code",
   "execution_count": 545,
   "metadata": {},
   "outputs": [],
   "source": [
    "import pandas as pd\n",
    "import numpy as np\n",
    "import re"
   ]
  },
  {
   "cell_type": "code",
   "execution_count": 546,
   "metadata": {},
   "outputs": [
    {
     "data": {
      "text/html": [
       "<div>\n",
       "<style scoped>\n",
       "    .dataframe tbody tr th:only-of-type {\n",
       "        vertical-align: middle;\n",
       "    }\n",
       "\n",
       "    .dataframe tbody tr th {\n",
       "        vertical-align: top;\n",
       "    }\n",
       "\n",
       "    .dataframe thead th {\n",
       "        text-align: right;\n",
       "    }\n",
       "</style>\n",
       "<table border=\"1\" class=\"dataframe\">\n",
       "  <thead>\n",
       "    <tr style=\"text-align: right;\">\n",
       "      <th></th>\n",
       "      <th>source</th>\n",
       "      <th>hyperlink</th>\n",
       "      <th>locality</th>\n",
       "      <th>postcode</th>\n",
       "      <th>house_is</th>\n",
       "      <th>property_subtype</th>\n",
       "      <th>price</th>\n",
       "      <th>sale</th>\n",
       "      <th>rooms_number</th>\n",
       "      <th>area</th>\n",
       "      <th>...</th>\n",
       "      <th>open_fire</th>\n",
       "      <th>terrace</th>\n",
       "      <th>terrace_area</th>\n",
       "      <th>garden</th>\n",
       "      <th>garden_area</th>\n",
       "      <th>land_surface</th>\n",
       "      <th>land_plot_surface</th>\n",
       "      <th>facades_number</th>\n",
       "      <th>swimming_pool_has</th>\n",
       "      <th>building_state</th>\n",
       "    </tr>\n",
       "  </thead>\n",
       "  <tbody>\n",
       "    <tr>\n",
       "      <th>0</th>\n",
       "      <td>6</td>\n",
       "      <td>8901695</td>\n",
       "      <td>4180</td>\n",
       "      <td>4180.0</td>\n",
       "      <td>True</td>\n",
       "      <td>MIXED_USE_BUILDING</td>\n",
       "      <td>295000</td>\n",
       "      <td>NaN</td>\n",
       "      <td>3</td>\n",
       "      <td>242</td>\n",
       "      <td>...</td>\n",
       "      <td>False</td>\n",
       "      <td>True</td>\n",
       "      <td>36</td>\n",
       "      <td>True</td>\n",
       "      <td>1000</td>\n",
       "      <td>1403</td>\n",
       "      <td>1403</td>\n",
       "      <td>0</td>\n",
       "      <td>False</td>\n",
       "      <td>GOOD</td>\n",
       "    </tr>\n",
       "    <tr>\n",
       "      <th>1</th>\n",
       "      <td>6</td>\n",
       "      <td>8747010</td>\n",
       "      <td>8730</td>\n",
       "      <td>8730.0</td>\n",
       "      <td>True</td>\n",
       "      <td>VILLA</td>\n",
       "      <td>675000</td>\n",
       "      <td>NaN</td>\n",
       "      <td>4</td>\n",
       "      <td>349</td>\n",
       "      <td>...</td>\n",
       "      <td>False</td>\n",
       "      <td>False</td>\n",
       "      <td>0</td>\n",
       "      <td>True</td>\n",
       "      <td>977</td>\n",
       "      <td>1526</td>\n",
       "      <td>1526</td>\n",
       "      <td>0</td>\n",
       "      <td>False</td>\n",
       "      <td>AS_NEW</td>\n",
       "    </tr>\n",
       "    <tr>\n",
       "      <th>2</th>\n",
       "      <td>6</td>\n",
       "      <td>8775843</td>\n",
       "      <td>4020</td>\n",
       "      <td>4020.0</td>\n",
       "      <td>True</td>\n",
       "      <td>APARTMENT_BLOCK</td>\n",
       "      <td>250000</td>\n",
       "      <td>NaN</td>\n",
       "      <td>5</td>\n",
       "      <td>303</td>\n",
       "      <td>...</td>\n",
       "      <td>False</td>\n",
       "      <td>False</td>\n",
       "      <td>0</td>\n",
       "      <td>False</td>\n",
       "      <td>0</td>\n",
       "      <td>760</td>\n",
       "      <td>760</td>\n",
       "      <td>0</td>\n",
       "      <td>False</td>\n",
       "      <td>TO_RENOVATE</td>\n",
       "    </tr>\n",
       "    <tr>\n",
       "      <th>3</th>\n",
       "      <td>6</td>\n",
       "      <td>8910441</td>\n",
       "      <td>1200</td>\n",
       "      <td>1200.0</td>\n",
       "      <td>True</td>\n",
       "      <td>HOUSE</td>\n",
       "      <td>545000</td>\n",
       "      <td>NaN</td>\n",
       "      <td>4</td>\n",
       "      <td>235</td>\n",
       "      <td>...</td>\n",
       "      <td>False</td>\n",
       "      <td>False</td>\n",
       "      <td>0</td>\n",
       "      <td>False</td>\n",
       "      <td>0</td>\n",
       "      <td>63</td>\n",
       "      <td>63</td>\n",
       "      <td>0</td>\n",
       "      <td>False</td>\n",
       "      <td>JUST_RENOVATED</td>\n",
       "    </tr>\n",
       "    <tr>\n",
       "      <th>4</th>\n",
       "      <td>6</td>\n",
       "      <td>8758672</td>\n",
       "      <td>1190</td>\n",
       "      <td>1190.0</td>\n",
       "      <td>True</td>\n",
       "      <td>MIXED_USE_BUILDING</td>\n",
       "      <td>500000</td>\n",
       "      <td>NaN</td>\n",
       "      <td>2</td>\n",
       "      <td>220</td>\n",
       "      <td>...</td>\n",
       "      <td>False</td>\n",
       "      <td>False</td>\n",
       "      <td>0</td>\n",
       "      <td>True</td>\n",
       "      <td>60</td>\n",
       "      <td>193</td>\n",
       "      <td>193</td>\n",
       "      <td>0</td>\n",
       "      <td>False</td>\n",
       "      <td>AS_NEW</td>\n",
       "    </tr>\n",
       "  </tbody>\n",
       "</table>\n",
       "<p>5 rows × 22 columns</p>\n",
       "</div>"
      ],
      "text/plain": [
       "   source hyperlink locality  postcode  house_is    property_subtype   price  \\\n",
       "0       6   8901695     4180    4180.0      True  MIXED_USE_BUILDING  295000   \n",
       "1       6   8747010     8730    8730.0      True               VILLA  675000   \n",
       "2       6   8775843     4020    4020.0      True     APARTMENT_BLOCK  250000   \n",
       "3       6   8910441     1200    1200.0      True               HOUSE  545000   \n",
       "4       6   8758672     1190    1190.0      True  MIXED_USE_BUILDING  500000   \n",
       "\n",
       "  sale rooms_number area  ... open_fire terrace terrace_area garden  \\\n",
       "0  NaN            3  242  ...     False    True           36   True   \n",
       "1  NaN            4  349  ...     False   False            0   True   \n",
       "2  NaN            5  303  ...     False   False            0  False   \n",
       "3  NaN            4  235  ...     False   False            0  False   \n",
       "4  NaN            2  220  ...     False   False            0   True   \n",
       "\n",
       "  garden_area land_surface land_plot_surface facades_number swimming_pool_has  \\\n",
       "0        1000         1403              1403              0             False   \n",
       "1         977         1526              1526              0             False   \n",
       "2           0          760               760              0             False   \n",
       "3           0           63                63              0             False   \n",
       "4          60          193               193              0             False   \n",
       "\n",
       "   building_state  \n",
       "0            GOOD  \n",
       "1          AS_NEW  \n",
       "2     TO_RENOVATE  \n",
       "3  JUST_RENOVATED  \n",
       "4          AS_NEW  \n",
       "\n",
       "[5 rows x 22 columns]"
      ]
     },
     "execution_count": 546,
     "metadata": {},
     "output_type": "execute_result"
    }
   ],
   "source": [
    "df = pd.read_csv('../csv_files/properties_correlated.csv', low_memory=False)\n",
    "df.head()"
   ]
  },
  {
   "cell_type": "code",
   "execution_count": 547,
   "metadata": {},
   "outputs": [
    {
     "data": {
      "text/plain": [
       "(93068, 22)"
      ]
     },
     "execution_count": 547,
     "metadata": {},
     "output_type": "execute_result"
    }
   ],
   "source": [
    "df.shape"
   ]
  },
  {
   "cell_type": "markdown",
   "metadata": {},
   "source": [
    "# Remove leading and trailing spaces from column names"
   ]
  },
  {
   "cell_type": "code",
   "execution_count": 548,
   "metadata": {},
   "outputs": [],
   "source": [
    "df.columns = [x.strip(' ') for x in df.columns.values]"
   ]
  },
  {
   "cell_type": "markdown",
   "metadata": {},
   "source": [
    "# Remove leading and trailing spaces of every element"
   ]
  },
  {
   "cell_type": "code",
   "execution_count": 549,
   "metadata": {},
   "outputs": [],
   "source": [
    "# remove leading and trailing spaces and newline characters from values if they are a string\n",
    "df = df.applymap(lambda x: x.strip() if type(x)==str else x)"
   ]
  },
  {
   "cell_type": "markdown",
   "metadata": {},
   "source": [
    "#### 1. PostCode"
   ]
  },
  {
   "cell_type": "code",
   "execution_count": 550,
   "metadata": {},
   "outputs": [
    {
     "data": {
      "text/plain": [
       "Int64Dtype()"
      ]
     },
     "execution_count": 550,
     "metadata": {},
     "output_type": "execute_result"
    }
   ],
   "source": [
    "# 1 Converts postCode into int64\n",
    "\n",
    "df['postcode'] = df['postcode'].astype('Int64')\n",
    "df['postcode'].dtypes"
   ]
  },
  {
   "cell_type": "markdown",
   "metadata": {},
   "source": [
    "#### 2. Price"
   ]
  },
  {
   "cell_type": "code",
   "execution_count": 551,
   "metadata": {},
   "outputs": [],
   "source": [
    "# 2 Converting price\n",
    "def grabs_strips(x):\n",
    "    if type(x) == str:\n",
    "        # return x.str.extract('(\\d*\\.?\\d*)', expand=False).astype(float)\n",
    "        return re.match(r'(\\d*(,\\d{3})*\\.?\\d*)', x).group()\n",
    "    return x\n",
    "\n",
    "\n",
    "df['price'] = df['price'].apply(grabs_strips)"
   ]
  },
  {
   "cell_type": "code",
   "execution_count": 552,
   "metadata": {},
   "outputs": [],
   "source": [
    "# Conversion into float\n",
    "df['price'] = pd.to_numeric(df['price'], errors='coerce')"
   ]
  },
  {
   "cell_type": "code",
   "execution_count": 553,
   "metadata": {},
   "outputs": [
    {
     "data": {
      "text/plain": [
       "(93068,)"
      ]
     },
     "execution_count": 553,
     "metadata": {},
     "output_type": "execute_result"
    }
   ],
   "source": [
    "df['price'].shape"
   ]
  },
  {
   "cell_type": "code",
   "execution_count": 554,
   "metadata": {},
   "outputs": [
    {
     "data": {
      "text/plain": [
       "(75802, 22)"
      ]
     },
     "execution_count": 554,
     "metadata": {},
     "output_type": "execute_result"
    }
   ],
   "source": [
    "df.dropna(subset=['price'], inplace=True)\n",
    "df.shape"
   ]
  },
  {
   "cell_type": "markdown",
   "metadata": {},
   "source": [
    "## 3.house_is"
   ]
  },
  {
   "cell_type": "code",
   "execution_count": 555,
   "metadata": {},
   "outputs": [],
   "source": [
    "# fonction to Update the most relevant value of proprety_subtype\n",
    "\n",
    "def updates_house_is(row):\n",
    "    \n",
    "    house_sub_type = ['HOUSE','house','VILLA','EXCEPTIONAL_PROPERTY', 'MANSION', 'villa', 'House', 'TOWN_HOUSE'\n",
    "                      , 'Villa', 'COUNTRY-COTTAGE' ]\n",
    "    \n",
    "    app_sub_type = ['APARTEMENT', 'APARTEMENT','apartment','MIXED_USE_BUILDING','Apartment','DUPLEX','PENTHOUSE',\n",
    "                   'APARTMENT_BLOCK','GROUND_FLOOR', 'duplex', 'ground-floor', 'Loft/Attic', 'APARTMENT_GROUP'\n",
    "                    , 'Penthouse', 'penthouse', 'flat-studio', 'APARTMENT', 'apartement', 'Apartement']\n",
    "    \n",
    "    if row['property_subtype'] in house_sub_type:\n",
    "        return True\n",
    "    elif row['property_subtype'] in app_sub_type:\n",
    "        return False\n",
    "    return np.nan\n",
    "\n",
    "# Storing in house_is prop of the df\n",
    "df['house_is'] = df.apply(updates_house_is, axis=1)\n",
    "df.house_is = df.house_is.astype('float64')"
   ]
  },
  {
   "cell_type": "markdown",
   "metadata": {},
   "source": [
    "## 4.Sale"
   ]
  },
  {
   "cell_type": "code",
   "execution_count": 556,
   "metadata": {},
   "outputs": [],
   "source": [
    "df.sale = df['sale'].replace({\n",
    "    'Wohnung': \"Unknown\",\n",
    "    'Appartement': \"Unknown\",\n",
    "    'Apartamento': \"Unknown\",\n",
    "    '': \"Unknown\",\n",
    "    'None': \"Unknown\",\n",
    "    \"unknown\":\"Unknown\",\n",
    "    \"Maison\":\"Unknown\",\n",
    "    \"Huis\":\"Unknown\",\n",
    "    \"House\":\"Unknown\"\n",
    "})\n",
    "\n",
    "df.sale = df['sale'].fillna('Unknown')"
   ]
  },
  {
   "cell_type": "markdown",
   "metadata": {},
   "source": [
    "## 5.property_subtype"
   ]
  },
  {
   "cell_type": "code",
   "execution_count": 557,
   "metadata": {},
   "outputs": [],
   "source": [
    "df.property_subtype = df['property_subtype'].replace({\n",
    "    'house': \"HOUSE\",\n",
    "    'House': \"HOUSE\",\n",
    "    'apartment': \"APARTMENT\",\n",
    "    '': \"Unknown\",\n",
    "    'villa': \"VILLA\",\n",
    "    \"duplex\":\"DUPLEX\",\n",
    "    \"Huis\":\"HOUSE\",\n",
    "    \"Maison\":\"HOUSE\",\n",
    "    'penthouse':'PENTHOUSE',\n",
    "    'flat-studio':'FLAT_STUDIO',\n",
    "    'ground-floor':'GROUND_FLOOR'\n",
    "})\n",
    "\n",
    "df.property_subtype = df['property_subtype'].fillna('Unknown')"
   ]
  },
  {
   "cell_type": "markdown",
   "metadata": {},
   "source": [
    "## 9.room_number"
   ]
  },
  {
   "cell_type": "code",
   "execution_count": 558,
   "metadata": {},
   "outputs": [
    {
     "data": {
      "text/plain": [
       "Series([], Name: rooms_number, dtype: object)"
      ]
     },
     "execution_count": 558,
     "metadata": {},
     "output_type": "execute_result"
    }
   ],
   "source": [
    "# replace None to np.nan\n",
    "df.rooms_number.fillna(value=np.nan, inplace=True)\n",
    "df.rooms_number[df.rooms_number==None]"
   ]
  },
  {
   "cell_type": "code",
   "execution_count": 559,
   "metadata": {},
   "outputs": [
    {
     "data": {
      "text/plain": [
       "Series([], Name: rooms_number, dtype: object)"
      ]
     },
     "execution_count": 559,
     "metadata": {},
     "output_type": "execute_result"
    }
   ],
   "source": [
    "# replace 'None' to np.nan\n",
    "df.rooms_number = df.rooms_number.apply(lambda x : np.nan if x=='None' else x)\n",
    "df.rooms_number[df.rooms_number=='None']"
   ]
  },
  {
   "cell_type": "code",
   "execution_count": 560,
   "metadata": {},
   "outputs": [],
   "source": [
    "df.rooms_number = df.rooms_number.replace('Not specified', np.nan)"
   ]
  },
  {
   "cell_type": "code",
   "execution_count": 561,
   "metadata": {},
   "outputs": [],
   "source": [
    "# change data type of rooms_number from object to float64\n",
    "df.rooms_number = df.rooms_number.astype('float64')"
   ]
  },
  {
   "cell_type": "markdown",
   "metadata": {},
   "source": [
    "## 10.area"
   ]
  },
  {
   "cell_type": "code",
   "execution_count": 562,
   "metadata": {},
   "outputs": [],
   "source": [
    "# remove 'm2' in value of area\n",
    "df.area = df.area.replace(\"[^0-9.-]\", \"\", regex=True)"
   ]
  },
  {
   "cell_type": "code",
   "execution_count": 563,
   "metadata": {},
   "outputs": [],
   "source": [
    "# replace empty in value of area\n",
    "df.area = df.area.replace('', np.nan)"
   ]
  },
  {
   "cell_type": "code",
   "execution_count": 564,
   "metadata": {},
   "outputs": [],
   "source": [
    "# replace None to np.nan\n",
    "df.area.fillna(value=np.nan, inplace=True)"
   ]
  },
  {
   "cell_type": "code",
   "execution_count": 565,
   "metadata": {},
   "outputs": [],
   "source": [
    "# replace 'None' to np.nan\n",
    "df.area = df.area.apply(lambda x : np.nan if x=='None' else x)"
   ]
  },
  {
   "cell_type": "code",
   "execution_count": 566,
   "metadata": {},
   "outputs": [],
   "source": [
    "# change data type from object to float64\n",
    "df.area = df.area.astype('float64')"
   ]
  },
  {
   "cell_type": "code",
   "execution_count": 567,
   "metadata": {},
   "outputs": [],
   "source": [
    "# replace zero in value of area\n",
    "df.area = df.area.replace(0, np.nan)"
   ]
  },
  {
   "cell_type": "markdown",
   "metadata": {},
   "source": [
    "## 11.kitchen_has"
   ]
  },
  {
   "cell_type": "code",
   "execution_count": 568,
   "metadata": {},
   "outputs": [
    {
     "data": {
      "text/plain": [
       "True     53991\n",
       "False    15764\n",
       "NaN       6047\n",
       "Name: kitchen_has, dtype: int64"
      ]
     },
     "execution_count": 568,
     "metadata": {},
     "output_type": "execute_result"
    }
   ],
   "source": [
    "df.kitchen_has.value_counts(dropna=False)"
   ]
  },
  {
   "cell_type": "code",
   "execution_count": 569,
   "metadata": {},
   "outputs": [],
   "source": [
    "# change data type from object to float64\n",
    "df.kitchen_has = df.kitchen_has.astype('float64')"
   ]
  },
  {
   "cell_type": "code",
   "execution_count": 570,
   "metadata": {},
   "outputs": [
    {
     "data": {
      "text/plain": [
       "1.0    53991\n",
       "0.0    15764\n",
       "NaN     6047\n",
       "Name: kitchen_has, dtype: int64"
      ]
     },
     "execution_count": 570,
     "metadata": {},
     "output_type": "execute_result"
    }
   ],
   "source": [
    "df.kitchen_has.value_counts(dropna=False)"
   ]
  },
  {
   "cell_type": "markdown",
   "metadata": {},
   "source": [
    "## 12.furnished"
   ]
  },
  {
   "cell_type": "code",
   "execution_count": 571,
   "metadata": {},
   "outputs": [],
   "source": [
    "# change data type from object to float64\n",
    "df.furnished = df.furnished.astype('float64')"
   ]
  },
  {
   "cell_type": "markdown",
   "metadata": {},
   "source": [
    "## 13.open_fire"
   ]
  },
  {
   "cell_type": "code",
   "execution_count": 572,
   "metadata": {},
   "outputs": [],
   "source": [
    "# change data type from object to float64\n",
    "df.open_fire = df.open_fire.astype('float64')"
   ]
  },
  {
   "cell_type": "markdown",
   "metadata": {},
   "source": [
    "## 14.terrace"
   ]
  },
  {
   "cell_type": "code",
   "execution_count": 573,
   "metadata": {},
   "outputs": [],
   "source": [
    "# change numerical data to np.nan\n",
    "df.terrace = df.terrace.replace(r'\\d\\.?\\d?', True, regex=True)"
   ]
  },
  {
   "cell_type": "code",
   "execution_count": 574,
   "metadata": {},
   "outputs": [],
   "source": [
    "# replace string False to False\n",
    "df.terrace = df.terrace.replace('False', False)"
   ]
  },
  {
   "cell_type": "code",
   "execution_count": 575,
   "metadata": {},
   "outputs": [],
   "source": [
    "# replace string False to False\n",
    "df.terrace = df.terrace.replace('TRUE', True)"
   ]
  },
  {
   "cell_type": "code",
   "execution_count": 576,
   "metadata": {},
   "outputs": [],
   "source": [
    "# replace string False to False\n",
    "df.terrace = df.terrace.replace('True', True)"
   ]
  },
  {
   "cell_type": "code",
   "execution_count": 577,
   "metadata": {},
   "outputs": [],
   "source": [
    "# change data type from object to bool\n",
    "df.terrace = df.terrace.astype('float64')"
   ]
  },
  {
   "cell_type": "code",
   "execution_count": 578,
   "metadata": {},
   "outputs": [
    {
     "data": {
      "text/plain": [
       "1.0    34219\n",
       "0.0    25809\n",
       "NaN    15774\n",
       "Name: terrace, dtype: int64"
      ]
     },
     "execution_count": 578,
     "metadata": {},
     "output_type": "execute_result"
    }
   ],
   "source": [
    "df.terrace.value_counts(dropna=False)"
   ]
  },
  {
   "cell_type": "markdown",
   "metadata": {},
   "source": [
    "## 15.terrace_area"
   ]
  },
  {
   "cell_type": "code",
   "execution_count": 579,
   "metadata": {},
   "outputs": [
    {
     "data": {
      "text/plain": [
       "Series([], Name: terrace_area, dtype: object)"
      ]
     },
     "execution_count": 579,
     "metadata": {},
     "output_type": "execute_result"
    }
   ],
   "source": [
    "# replace 'None' to np.nan\n",
    "df.terrace_area = df.terrace_area.apply(lambda x : np.nan if x=='None' else x)\n",
    "df.terrace_area[df.terrace_area=='None']"
   ]
  },
  {
   "cell_type": "code",
   "execution_count": 580,
   "metadata": {},
   "outputs": [],
   "source": [
    "df.terrace_area = df.terrace_area.replace(True, np.nan)\n",
    "df.terrace_area = df.terrace_area.replace('TRUE', np.nan)"
   ]
  },
  {
   "cell_type": "code",
   "execution_count": 581,
   "metadata": {},
   "outputs": [],
   "source": [
    "# change data type from object to float64\n",
    "df.terrace_area = df.terrace_area.astype('float64')\n",
    "\n",
    "# replace zero in value of area\n",
    "df.terrace_area = df.terrace_area.replace(0, np.nan)\n",
    "\n",
    "# replace '1' in value of area\n",
    "df.terrace_area = df.terrace_area.replace(1, np.nan)"
   ]
  },
  {
   "cell_type": "markdown",
   "metadata": {},
   "source": [
    "## 16.Garden"
   ]
  },
  {
   "cell_type": "code",
   "execution_count": 582,
   "metadata": {},
   "outputs": [],
   "source": [
    "# replace string False to False\n",
    "df.garden = df.garden.replace('False', False)"
   ]
  },
  {
   "cell_type": "code",
   "execution_count": 583,
   "metadata": {},
   "outputs": [],
   "source": [
    "# replace string False to False\n",
    "df.garden = df.garden.replace('True', True)"
   ]
  },
  {
   "cell_type": "code",
   "execution_count": 584,
   "metadata": {},
   "outputs": [],
   "source": [
    "# change data type from object to bool\n",
    "df.garden = df.garden.astype('float64')"
   ]
  },
  {
   "cell_type": "code",
   "execution_count": 585,
   "metadata": {},
   "outputs": [],
   "source": [
    "df.garden = df.garden.apply(lambda x:1 if x>1 else x)"
   ]
  },
  {
   "cell_type": "markdown",
   "metadata": {},
   "source": [
    "## 17.Garden Area"
   ]
  },
  {
   "cell_type": "code",
   "execution_count": 586,
   "metadata": {},
   "outputs": [],
   "source": [
    "# replace None to np.nan\n",
    "df.garden_area.fillna(value=np.NaN, inplace=True)\n",
    "df.garden_area[df.garden_area==None]\n",
    "\n",
    "# replace 'None' to np.nan\n",
    "df.garden_area = df.garden_area.apply(lambda x : np.nan if x=='None' else x)\n",
    "df.garden_area[df.garden_area=='None']\n",
    "\n",
    "# change data type of rooms_number from object to float64\n",
    "df.garden_area = df.garden_area.astype('float64')\n",
    "\n",
    "# replace zero in value of area\n",
    "df.garden_area = df.garden_area.replace(0, np.nan)\n",
    "\n",
    "# replace '1' in value of area\n",
    "df.garden_area = df.garden_area.replace(1, np.nan)"
   ]
  },
  {
   "cell_type": "markdown",
   "metadata": {},
   "source": [
    "## 18.land_surface"
   ]
  },
  {
   "cell_type": "code",
   "execution_count": 587,
   "metadata": {},
   "outputs": [],
   "source": [
    "# replace None to np.nan\n",
    "df.land_surface.fillna(value=np.NaN, inplace=True)\n",
    "\n",
    "# replace np.nan TO 0\n",
    "df.land_surface = df.land_surface.replace(np.nan, 0)\n",
    "\n",
    "# replace None to np.nan\n",
    "df.land_surface.fillna(value=np.nan, inplace=True)\n",
    "\n",
    "# replace 'None' to np.nan\n",
    "df.land_surface = df.land_surface.apply(lambda x : np.nan if x=='None' else x)\n",
    "\n",
    "# change data type of rooms_number from object to float64\n",
    "df.land_surface = df.land_surface.astype('float64')\n",
    "\n",
    "# replace zero in value of area\n",
    "df.land_surface = df.land_surface.replace(0, np.nan)\n",
    "\n",
    "# replace '1' in value of area\n",
    "df.land_surface = df.land_surface.replace(1, np.nan)"
   ]
  },
  {
   "cell_type": "code",
   "execution_count": 588,
   "metadata": {},
   "outputs": [
    {
     "data": {
      "text/plain": [
       "100.0      280\n",
       "150.0      268\n",
       "200.0      220\n",
       "300.0      217\n",
       "120.0      215\n",
       "          ... \n",
       "1674.0       1\n",
       "1401.0       1\n",
       "7098.0       1\n",
       "80978.0      1\n",
       "5291.0       1\n",
       "Name: land_surface, Length: 2166, dtype: int64"
      ]
     },
     "execution_count": 588,
     "metadata": {},
     "output_type": "execute_result"
    }
   ],
   "source": [
    "df.land_surface.value_counts()"
   ]
  },
  {
   "cell_type": "markdown",
   "metadata": {},
   "source": [
    "## 19.land_plot_surface"
   ]
  },
  {
   "cell_type": "code",
   "execution_count": 589,
   "metadata": {},
   "outputs": [],
   "source": [
    "# replace 'yes' from value to 0\n",
    "df.land_plot_surface = df.land_plot_surface.replace(\"[^0-9.-]\", \"\", regex=True)\n",
    "\n",
    "# replace 'm2' from value of area\n",
    "df.land_plot_surface = df.land_plot_surface.replace('', np.nan)\n",
    "\n",
    "# replace None to np.nan\n",
    "df.land_plot_surface.fillna(value=np.nan, inplace=True)\n",
    "\n",
    "# replace 'None' to np.nan\n",
    "df.land_plot_surface = df.land_plot_surface.apply(lambda x : np.nan if x=='None' else x)\n",
    "\n",
    "# change data type of rooms_number from object to float64\n",
    "df.land_plot_surface = df.land_plot_surface.astype('float64')\n",
    "\n",
    "# replace zero in value of area\n",
    "df.land_plot_surface = df.land_plot_surface.replace(0, np.nan)\n",
    "\n",
    "# replace '1' in value of area\n",
    "df.land_plot_surface = df.land_plot_surface.replace(1, np.nan)"
   ]
  },
  {
   "cell_type": "markdown",
   "metadata": {},
   "source": [
    "## 20.facades_number"
   ]
  },
  {
   "cell_type": "code",
   "execution_count": 590,
   "metadata": {},
   "outputs": [],
   "source": [
    "# replace 'None' to np.nan\n",
    "df.facades_number = df.facades_number.apply(lambda x : np.nan if x=='None' else x)\n",
    "df.facades_number[df.facades_number=='None']\n",
    "\n",
    "# change data type of facades_number from object to float64\n",
    "df.facades_number = df.facades_number.astype('float64')"
   ]
  },
  {
   "cell_type": "markdown",
   "metadata": {},
   "source": [
    "## 21.swimming_pool_has"
   ]
  },
  {
   "cell_type": "code",
   "execution_count": 591,
   "metadata": {},
   "outputs": [
    {
     "data": {
      "text/plain": [
       "0.0    59365\n",
       "NaN    14475\n",
       "1.0     1962\n",
       "Name: swimming_pool_has, dtype: int64"
      ]
     },
     "execution_count": 591,
     "metadata": {},
     "output_type": "execute_result"
    }
   ],
   "source": [
    " #change numerical data to np.nan\n",
    "df.swimming_pool_has = df.swimming_pool_has.replace(r'\\d\\.?\\d?', np.nan, regex=True)\n",
    "\n",
    "# replace string 'False' to False\n",
    "df.swimming_pool_has = df.swimming_pool_has.replace('False', False)\n",
    "\n",
    "# replace string 'FALSE' to False\n",
    "df.swimming_pool_has = df.swimming_pool_has.replace('FALSE', False)\n",
    "\n",
    "# replace string 'True' to True\n",
    "df.swimming_pool_has = df.swimming_pool_has.replace('True', True)\n",
    "\n",
    "# replace string 'TRUE' to True\n",
    "df.swimming_pool_has = df.swimming_pool_has.replace('TRUE', True)\n",
    "\n",
    "# change data type from object to bool\n",
    "df.swimming_pool_has = df.swimming_pool_has.astype('float64')\n",
    "\n",
    "df.swimming_pool_has.value_counts(dropna=False)"
   ]
  },
  {
   "cell_type": "markdown",
   "metadata": {},
   "source": [
    "## 22.building_state"
   ]
  },
  {
   "cell_type": "code",
   "execution_count": 592,
   "metadata": {},
   "outputs": [],
   "source": [
    "# change numerical data to np.nan\n",
    "df.building_state = df.building_state.replace(r'\\d\\.?\\d?', np.nan, regex=True)\n",
    "df.building_state = df.building_state.apply(lambda x : np.nan if x=='None' else x)\n",
    "df.building_state = df.building_state.replace(np.nan, 'Not specified')\n",
    "df.building_state = df['building_state'].replace({\n",
    "    'Good':\"GOOD\",\n",
    "    'As new':\"AS_NEW\",\n",
    "    'To renovate':\"TO_RENOVATE\",\n",
    "    'To restore':\"TO_RESTORE\",\n",
    "    '':'Not specified',\n",
    "    'To be done up':\"TO_BE_DONE_UP\",\n",
    "    \"Just renovated\":\"JUST_RENOVATED\"\n",
    "})"
   ]
  },
  {
   "cell_type": "markdown",
   "metadata": {},
   "source": [
    "# Check if there are columns with mixed data types ==> NO"
   ]
  },
  {
   "cell_type": "code",
   "execution_count": 593,
   "metadata": {},
   "outputs": [
    {
     "data": {
      "text/plain": [
       "source                integer\n",
       "hyperlink              string\n",
       "locality               string\n",
       "postcode              integer\n",
       "house_is             floating\n",
       "property_subtype       string\n",
       "price                floating\n",
       "sale                   string\n",
       "rooms_number         floating\n",
       "area                 floating\n",
       "kitchen_has          floating\n",
       "furnished            floating\n",
       "open_fire            floating\n",
       "terrace              floating\n",
       "terrace_area         floating\n",
       "garden               floating\n",
       "garden_area          floating\n",
       "land_surface         floating\n",
       "land_plot_surface    floating\n",
       "facades_number       floating\n",
       "swimming_pool_has    floating\n",
       "building_state         string\n",
       "dtype: object"
      ]
     },
     "execution_count": 593,
     "metadata": {},
     "output_type": "execute_result"
    }
   ],
   "source": [
    "from pandas.api.types import infer_dtype\n",
    "# print data type of each column to check if there are\n",
    "# any mixed ones, turns out that there are none\n",
    "def is_mixed(col):\n",
    "    return infer_dtype(col)\n",
    "\n",
    "df.apply(is_mixed)\n",
    "\n",
    "# ==> there are no columns with 'mixed' part of the inferred datatype"
   ]
  },
  {
   "cell_type": "markdown",
   "metadata": {},
   "source": [
    "## Find which kind of empties there are ==> there are only NaNs"
   ]
  },
  {
   "cell_type": "code",
   "execution_count": 594,
   "metadata": {},
   "outputs": [
    {
     "data": {
      "text/plain": [
       "(array([    1,     2,     2, ..., 75801, 75801, 75801]),\n",
       " array([14, 14, 16, ..., 17, 18, 20]))"
      ]
     },
     "execution_count": 594,
     "metadata": {},
     "output_type": "execute_result"
    }
   ],
   "source": [
    "# are there any empty strings? ==> no\n",
    "#print(np.where(df.applymap(lambda x: x == '')))\n",
    "\n",
    "# are there any NaNs? ==> yes\n",
    "np.where(pd.isnull(df))"
   ]
  },
  {
   "cell_type": "markdown",
   "metadata": {},
   "source": [
    "# Display the percent of NaNs per column"
   ]
  },
  {
   "cell_type": "code",
   "execution_count": 595,
   "metadata": {},
   "outputs": [
    {
     "data": {
      "text/html": [
       "<div>\n",
       "<style scoped>\n",
       "    .dataframe tbody tr th:only-of-type {\n",
       "        vertical-align: middle;\n",
       "    }\n",
       "\n",
       "    .dataframe tbody tr th {\n",
       "        vertical-align: top;\n",
       "    }\n",
       "\n",
       "    .dataframe thead th {\n",
       "        text-align: right;\n",
       "    }\n",
       "</style>\n",
       "<table border=\"1\" class=\"dataframe\">\n",
       "  <thead>\n",
       "    <tr style=\"text-align: right;\">\n",
       "      <th></th>\n",
       "      <th>%_missing</th>\n",
       "    </tr>\n",
       "  </thead>\n",
       "  <tbody>\n",
       "    <tr>\n",
       "      <th>garden_area</th>\n",
       "      <td>86.045223</td>\n",
       "    </tr>\n",
       "    <tr>\n",
       "      <th>terrace_area</th>\n",
       "      <td>70.008707</td>\n",
       "    </tr>\n",
       "    <tr>\n",
       "      <th>land_surface</th>\n",
       "      <td>67.032532</td>\n",
       "    </tr>\n",
       "    <tr>\n",
       "      <th>land_plot_surface</th>\n",
       "      <td>37.830136</td>\n",
       "    </tr>\n",
       "    <tr>\n",
       "      <th>hyperlink</th>\n",
       "      <td>22.172238</td>\n",
       "    </tr>\n",
       "    <tr>\n",
       "      <th>terrace</th>\n",
       "      <td>20.809477</td>\n",
       "    </tr>\n",
       "    <tr>\n",
       "      <th>swimming_pool_has</th>\n",
       "      <td>19.095802</td>\n",
       "    </tr>\n",
       "    <tr>\n",
       "      <th>furnished</th>\n",
       "      <td>15.605129</td>\n",
       "    </tr>\n",
       "    <tr>\n",
       "      <th>house_is</th>\n",
       "      <td>14.142107</td>\n",
       "    </tr>\n",
       "    <tr>\n",
       "      <th>facades_number</th>\n",
       "      <td>13.552413</td>\n",
       "    </tr>\n",
       "    <tr>\n",
       "      <th>area</th>\n",
       "      <td>11.379647</td>\n",
       "    </tr>\n",
       "    <tr>\n",
       "      <th>garden</th>\n",
       "      <td>9.779425</td>\n",
       "    </tr>\n",
       "    <tr>\n",
       "      <th>kitchen_has</th>\n",
       "      <td>7.977362</td>\n",
       "    </tr>\n",
       "    <tr>\n",
       "      <th>open_fire</th>\n",
       "      <td>7.284768</td>\n",
       "    </tr>\n",
       "    <tr>\n",
       "      <th>postcode</th>\n",
       "      <td>4.019683</td>\n",
       "    </tr>\n",
       "    <tr>\n",
       "      <th>rooms_number</th>\n",
       "      <td>0.340360</td>\n",
       "    </tr>\n",
       "    <tr>\n",
       "      <th>locality</th>\n",
       "      <td>0.002638</td>\n",
       "    </tr>\n",
       "    <tr>\n",
       "      <th>source</th>\n",
       "      <td>0.000000</td>\n",
       "    </tr>\n",
       "    <tr>\n",
       "      <th>sale</th>\n",
       "      <td>0.000000</td>\n",
       "    </tr>\n",
       "    <tr>\n",
       "      <th>price</th>\n",
       "      <td>0.000000</td>\n",
       "    </tr>\n",
       "    <tr>\n",
       "      <th>property_subtype</th>\n",
       "      <td>0.000000</td>\n",
       "    </tr>\n",
       "    <tr>\n",
       "      <th>building_state</th>\n",
       "      <td>0.000000</td>\n",
       "    </tr>\n",
       "  </tbody>\n",
       "</table>\n",
       "</div>"
      ],
      "text/plain": [
       "                   %_missing\n",
       "garden_area        86.045223\n",
       "terrace_area       70.008707\n",
       "land_surface       67.032532\n",
       "land_plot_surface  37.830136\n",
       "hyperlink          22.172238\n",
       "terrace            20.809477\n",
       "swimming_pool_has  19.095802\n",
       "furnished          15.605129\n",
       "house_is           14.142107\n",
       "facades_number     13.552413\n",
       "area               11.379647\n",
       "garden              9.779425\n",
       "kitchen_has         7.977362\n",
       "open_fire           7.284768\n",
       "postcode            4.019683\n",
       "rooms_number        0.340360\n",
       "locality            0.002638\n",
       "source              0.000000\n",
       "sale                0.000000\n",
       "price               0.000000\n",
       "property_subtype    0.000000\n",
       "building_state      0.000000"
      ]
     },
     "execution_count": 595,
     "metadata": {},
     "output_type": "execute_result"
    }
   ],
   "source": [
    "# display the percent of NaNs per column\n",
    "percent_missing = df.isnull().sum() * 100 / len(df)\n",
    "missing_value_df = pd.DataFrame({'%_missing': percent_missing})\n",
    "missing_value_df = missing_value_df.sort_values('%_missing', ascending = False)\n",
    "missing_value_df"
   ]
  },
  {
   "cell_type": "markdown",
   "metadata": {},
   "source": [
    "### Put 'unknown' in place of NaN for everything else than int64 and float64 columns\n",
    "### Please run this after converting numerical columns like price and facades from string to integer.\n",
    "#### Even a value of NaN might help predict the price, so to avoid the correlation algorithm skipping it?, and because NaN is not allowed, we replace it."
   ]
  },
  {
   "cell_type": "code",
   "execution_count": 596,
   "metadata": {},
   "outputs": [],
   "source": [
    "# replace all NaNs in strings with 'unknown'\n",
    "df_nanfilled = df.select_dtypes(exclude=['int64','float64']).replace(np.nan, 'unknown')\n",
    "df.update(df_nanfilled)\n",
    "\n",
    "# replace all 'None'/'none' strings with uknown\n",
    "df_nonefilled = df.select_dtypes(exclude=['int64','float64']).replace('none', 'unknown')\n",
    "df.update(df_nonefilled)\n",
    "df_nonefilled = df.select_dtypes(exclude=['int64','float64']).replace('None', 'unknown')\n",
    "df.update(df_nonefilled)"
   ]
  },
  {
   "cell_type": "code",
   "execution_count": 597,
   "metadata": {},
   "outputs": [
    {
     "name": "stdout",
     "output_type": "stream",
     "text": [
      "<class 'pandas.core.frame.DataFrame'>\n",
      "Int64Index: 75802 entries, 0 to 93067\n",
      "Data columns (total 22 columns):\n",
      " #   Column             Non-Null Count  Dtype  \n",
      "---  ------             --------------  -----  \n",
      " 0   source             75802 non-null  int64  \n",
      " 1   hyperlink          75802 non-null  object \n",
      " 2   locality           75802 non-null  object \n",
      " 3   postcode           72755 non-null  Int64  \n",
      " 4   house_is           65082 non-null  float64\n",
      " 5   property_subtype   75802 non-null  object \n",
      " 6   price              75802 non-null  float64\n",
      " 7   sale               75802 non-null  object \n",
      " 8   rooms_number       75544 non-null  float64\n",
      " 9   area               67176 non-null  float64\n",
      " 10  kitchen_has        69755 non-null  float64\n",
      " 11  furnished          63973 non-null  float64\n",
      " 12  open_fire          70280 non-null  float64\n",
      " 13  terrace            60028 non-null  float64\n",
      " 14  terrace_area       22734 non-null  float64\n",
      " 15  garden             68389 non-null  float64\n",
      " 16  garden_area        10578 non-null  float64\n",
      " 17  land_surface       24990 non-null  float64\n",
      " 18  land_plot_surface  47126 non-null  float64\n",
      " 19  facades_number     65529 non-null  float64\n",
      " 20  swimming_pool_has  61327 non-null  float64\n",
      " 21  building_state     75802 non-null  object \n",
      "dtypes: Int64(1), float64(15), int64(1), object(5)\n",
      "memory usage: 13.4+ MB\n"
     ]
    }
   ],
   "source": [
    "df.info()"
   ]
  },
  {
   "cell_type": "markdown",
   "metadata": {},
   "source": [
    "# Remove duplicates\n",
    "### should execute after fixing columns\n",
    "### should execute after removing non-property detail or incomplete columns: source and hyperlink"
   ]
  },
  {
   "cell_type": "code",
   "execution_count": 598,
   "metadata": {},
   "outputs": [
    {
     "name": "stdout",
     "output_type": "stream",
     "text": [
      "Dropped: -21765\n"
     ]
    }
   ],
   "source": [
    "# drop columns \n",
    "df.drop(['source', 'hyperlink'], axis = 1, inplace = True)\n",
    "\n",
    "# drop 100% duplicate rows\n",
    "lenght_before = len(df)\n",
    "df.drop_duplicates(ignore_index = True, inplace = True)\n",
    "dropped = len(df) - lenght_before\n",
    "print(f'Dropped: {dropped}')"
   ]
  },
  {
   "cell_type": "markdown",
   "metadata": {},
   "source": [
    "## 6.locality and postcode\n",
    "### Drop postcode column, because postcode is more completely available in 'locality'\n",
    "### first we fix 'locality' column to carry just postcode or 'unknown' (stripping sporadic address parts)"
   ]
  },
  {
   "cell_type": "code",
   "execution_count": 599,
   "metadata": {},
   "outputs": [],
   "source": [
    "df.drop('postcode', axis = 1, inplace = True)\n",
    "\n",
    "# write a function that returns the cleaned postcode from elements\n",
    "# containing the address\n",
    "def clean_locality(locality): \n",
    "    # Search for the presence of a 4 digit number (starts with 1-9)\n",
    "    if re.search('[1-9]\\d{3}', locality):\n",
    "        # get the number\n",
    "        return re.findall(\"[1-9]\\d{3}\", locality)[0]\n",
    "    else: \n",
    "        # if no postcode is inside insert 'unknown' \n",
    "        return 'unknown'\n",
    "          \n",
    "# Updated locality column\n",
    "df['locality'] = df['locality'].apply(clean_locality)"
   ]
  },
  {
   "cell_type": "markdown",
   "metadata": {},
   "source": [
    "## 7.Create a region column"
   ]
  },
  {
   "cell_type": "code",
   "execution_count": 600,
   "metadata": {},
   "outputs": [],
   "source": [
    "def get_region(locality):\n",
    "    if locality == 'unknown':\n",
    "        return 'unknown'\n",
    "    else:\n",
    "        if not re.search('[1-9]\\d{3}', locality):\n",
    "            print('Please run this on already cleaned locality column')\n",
    "            return 'unknown'\n",
    "        elif int(locality) >= 1000 and int(locality) <=1299:\n",
    "            return 'Brussels'\n",
    "        elif int(locality) >= 1300 and int(locality) <=1499:\n",
    "            return 'Wallonia'\n",
    "        elif int(locality) >= 4000 and int(locality) <=7999:\n",
    "            return 'Wallonia'\n",
    "        else:\n",
    "            return 'Flanders'\n",
    "        \n",
    "df['region'] = df['locality'].apply(get_region)"
   ]
  },
  {
   "cell_type": "markdown",
   "metadata": {},
   "source": [
    "# Print unique values per column"
   ]
  },
  {
   "cell_type": "code",
   "execution_count": 603,
   "metadata": {},
   "outputs": [
    {
     "data": {
      "text/html": [
       "<div>\n",
       "<style scoped>\n",
       "    .dataframe tbody tr th:only-of-type {\n",
       "        vertical-align: middle;\n",
       "    }\n",
       "\n",
       "    .dataframe tbody tr th {\n",
       "        vertical-align: top;\n",
       "    }\n",
       "\n",
       "    .dataframe thead th {\n",
       "        text-align: right;\n",
       "    }\n",
       "</style>\n",
       "<table border=\"1\" class=\"dataframe\">\n",
       "  <thead>\n",
       "    <tr style=\"text-align: right;\">\n",
       "      <th></th>\n",
       "      <th>land_plot_surface_value</th>\n",
       "      <th>land_plot_surface_count</th>\n",
       "      <th>facades_number_value</th>\n",
       "      <th>facades_number_count</th>\n",
       "      <th>swimming_pool_has_value</th>\n",
       "      <th>swimming_pool_has_count</th>\n",
       "      <th>building_state_value</th>\n",
       "      <th>building_state_count</th>\n",
       "      <th>region_value</th>\n",
       "      <th>region_count</th>\n",
       "    </tr>\n",
       "  </thead>\n",
       "  <tbody>\n",
       "    <tr>\n",
       "      <th>0</th>\n",
       "      <td>100.0</td>\n",
       "      <td>353.0</td>\n",
       "      <td>0.0</td>\n",
       "      <td>17138.0</td>\n",
       "      <td>0.0</td>\n",
       "      <td>40599.0</td>\n",
       "      <td>Not specified</td>\n",
       "      <td>25177.0</td>\n",
       "      <td>unknown</td>\n",
       "      <td>20196.0</td>\n",
       "    </tr>\n",
       "    <tr>\n",
       "      <th>1</th>\n",
       "      <td>90.0</td>\n",
       "      <td>313.0</td>\n",
       "      <td>2.0</td>\n",
       "      <td>13409.0</td>\n",
       "      <td>1.0</td>\n",
       "      <td>1466.0</td>\n",
       "      <td>AS_NEW</td>\n",
       "      <td>12412.0</td>\n",
       "      <td>Flanders</td>\n",
       "      <td>18505.0</td>\n",
       "    </tr>\n",
       "    <tr>\n",
       "      <th>2</th>\n",
       "      <td>120.0</td>\n",
       "      <td>291.0</td>\n",
       "      <td>4.0</td>\n",
       "      <td>8326.0</td>\n",
       "      <td>NaN</td>\n",
       "      <td>NaN</td>\n",
       "      <td>GOOD</td>\n",
       "      <td>9559.0</td>\n",
       "      <td>Wallonia</td>\n",
       "      <td>9826.0</td>\n",
       "    </tr>\n",
       "    <tr>\n",
       "      <th>3</th>\n",
       "      <td>70.0</td>\n",
       "      <td>290.0</td>\n",
       "      <td>3.0</td>\n",
       "      <td>6995.0</td>\n",
       "      <td>NaN</td>\n",
       "      <td>NaN</td>\n",
       "      <td>TO_BE_DONE_UP</td>\n",
       "      <td>2515.0</td>\n",
       "      <td>Brussels</td>\n",
       "      <td>5510.0</td>\n",
       "    </tr>\n",
       "    <tr>\n",
       "      <th>4</th>\n",
       "      <td>80.0</td>\n",
       "      <td>289.0</td>\n",
       "      <td>1.0</td>\n",
       "      <td>348.0</td>\n",
       "      <td>NaN</td>\n",
       "      <td>NaN</td>\n",
       "      <td>TO_RENOVATE</td>\n",
       "      <td>2184.0</td>\n",
       "      <td>NaN</td>\n",
       "      <td>NaN</td>\n",
       "    </tr>\n",
       "    <tr>\n",
       "      <th>5</th>\n",
       "      <td>110.0</td>\n",
       "      <td>263.0</td>\n",
       "      <td>10.0</td>\n",
       "      <td>2.0</td>\n",
       "      <td>NaN</td>\n",
       "      <td>NaN</td>\n",
       "      <td>JUST_RENOVATED</td>\n",
       "      <td>2047.0</td>\n",
       "      <td>NaN</td>\n",
       "      <td>NaN</td>\n",
       "    </tr>\n",
       "    <tr>\n",
       "      <th>6</th>\n",
       "      <td>150.0</td>\n",
       "      <td>256.0</td>\n",
       "      <td>6.0</td>\n",
       "      <td>1.0</td>\n",
       "      <td>NaN</td>\n",
       "      <td>NaN</td>\n",
       "      <td>TO_RESTORE</td>\n",
       "      <td>143.0</td>\n",
       "      <td>NaN</td>\n",
       "      <td>NaN</td>\n",
       "    </tr>\n",
       "    <tr>\n",
       "      <th>7</th>\n",
       "      <td>85.0</td>\n",
       "      <td>223.0</td>\n",
       "      <td>NaN</td>\n",
       "      <td>NaN</td>\n",
       "      <td>NaN</td>\n",
       "      <td>NaN</td>\n",
       "      <td>NaN</td>\n",
       "      <td>NaN</td>\n",
       "      <td>NaN</td>\n",
       "      <td>NaN</td>\n",
       "    </tr>\n",
       "    <tr>\n",
       "      <th>8</th>\n",
       "      <td>75.0</td>\n",
       "      <td>210.0</td>\n",
       "      <td>NaN</td>\n",
       "      <td>NaN</td>\n",
       "      <td>NaN</td>\n",
       "      <td>NaN</td>\n",
       "      <td>NaN</td>\n",
       "      <td>NaN</td>\n",
       "      <td>NaN</td>\n",
       "      <td>NaN</td>\n",
       "    </tr>\n",
       "    <tr>\n",
       "      <th>9</th>\n",
       "      <td>200.0</td>\n",
       "      <td>201.0</td>\n",
       "      <td>NaN</td>\n",
       "      <td>NaN</td>\n",
       "      <td>NaN</td>\n",
       "      <td>NaN</td>\n",
       "      <td>NaN</td>\n",
       "      <td>NaN</td>\n",
       "      <td>NaN</td>\n",
       "      <td>NaN</td>\n",
       "    </tr>\n",
       "    <tr>\n",
       "      <th>10</th>\n",
       "      <td>60.0</td>\n",
       "      <td>197.0</td>\n",
       "      <td>NaN</td>\n",
       "      <td>NaN</td>\n",
       "      <td>NaN</td>\n",
       "      <td>NaN</td>\n",
       "      <td>NaN</td>\n",
       "      <td>NaN</td>\n",
       "      <td>NaN</td>\n",
       "      <td>NaN</td>\n",
       "    </tr>\n",
       "    <tr>\n",
       "      <th>11</th>\n",
       "      <td>130.0</td>\n",
       "      <td>192.0</td>\n",
       "      <td>NaN</td>\n",
       "      <td>NaN</td>\n",
       "      <td>NaN</td>\n",
       "      <td>NaN</td>\n",
       "      <td>NaN</td>\n",
       "      <td>NaN</td>\n",
       "      <td>NaN</td>\n",
       "      <td>NaN</td>\n",
       "    </tr>\n",
       "    <tr>\n",
       "      <th>12</th>\n",
       "      <td>160.0</td>\n",
       "      <td>186.0</td>\n",
       "      <td>NaN</td>\n",
       "      <td>NaN</td>\n",
       "      <td>NaN</td>\n",
       "      <td>NaN</td>\n",
       "      <td>NaN</td>\n",
       "      <td>NaN</td>\n",
       "      <td>NaN</td>\n",
       "      <td>NaN</td>\n",
       "    </tr>\n",
       "    <tr>\n",
       "      <th>13</th>\n",
       "      <td>95.0</td>\n",
       "      <td>185.0</td>\n",
       "      <td>NaN</td>\n",
       "      <td>NaN</td>\n",
       "      <td>NaN</td>\n",
       "      <td>NaN</td>\n",
       "      <td>NaN</td>\n",
       "      <td>NaN</td>\n",
       "      <td>NaN</td>\n",
       "      <td>NaN</td>\n",
       "    </tr>\n",
       "  </tbody>\n",
       "</table>\n",
       "</div>"
      ],
      "text/plain": [
       "    land_plot_surface_value  land_plot_surface_count  facades_number_value  \\\n",
       "0                     100.0                    353.0                   0.0   \n",
       "1                      90.0                    313.0                   2.0   \n",
       "2                     120.0                    291.0                   4.0   \n",
       "3                      70.0                    290.0                   3.0   \n",
       "4                      80.0                    289.0                   1.0   \n",
       "5                     110.0                    263.0                  10.0   \n",
       "6                     150.0                    256.0                   6.0   \n",
       "7                      85.0                    223.0                   NaN   \n",
       "8                      75.0                    210.0                   NaN   \n",
       "9                     200.0                    201.0                   NaN   \n",
       "10                     60.0                    197.0                   NaN   \n",
       "11                    130.0                    192.0                   NaN   \n",
       "12                    160.0                    186.0                   NaN   \n",
       "13                     95.0                    185.0                   NaN   \n",
       "\n",
       "    facades_number_count  swimming_pool_has_value  swimming_pool_has_count  \\\n",
       "0                17138.0                      0.0                  40599.0   \n",
       "1                13409.0                      1.0                   1466.0   \n",
       "2                 8326.0                      NaN                      NaN   \n",
       "3                 6995.0                      NaN                      NaN   \n",
       "4                  348.0                      NaN                      NaN   \n",
       "5                    2.0                      NaN                      NaN   \n",
       "6                    1.0                      NaN                      NaN   \n",
       "7                    NaN                      NaN                      NaN   \n",
       "8                    NaN                      NaN                      NaN   \n",
       "9                    NaN                      NaN                      NaN   \n",
       "10                   NaN                      NaN                      NaN   \n",
       "11                   NaN                      NaN                      NaN   \n",
       "12                   NaN                      NaN                      NaN   \n",
       "13                   NaN                      NaN                      NaN   \n",
       "\n",
       "   building_state_value  building_state_count region_value  region_count  \n",
       "0         Not specified               25177.0      unknown       20196.0  \n",
       "1                AS_NEW               12412.0     Flanders       18505.0  \n",
       "2                  GOOD                9559.0     Wallonia        9826.0  \n",
       "3         TO_BE_DONE_UP                2515.0     Brussels        5510.0  \n",
       "4           TO_RENOVATE                2184.0          NaN           NaN  \n",
       "5        JUST_RENOVATED                2047.0          NaN           NaN  \n",
       "6            TO_RESTORE                 143.0          NaN           NaN  \n",
       "7                   NaN                   NaN          NaN           NaN  \n",
       "8                   NaN                   NaN          NaN           NaN  \n",
       "9                   NaN                   NaN          NaN           NaN  \n",
       "10                  NaN                   NaN          NaN           NaN  \n",
       "11                  NaN                   NaN          NaN           NaN  \n",
       "12                  NaN                   NaN          NaN           NaN  \n",
       "13                  NaN                   NaN          NaN           NaN  "
      ]
     },
     "execution_count": 603,
     "metadata": {},
     "output_type": "execute_result"
    }
   ],
   "source": [
    "uniques = pd.DataFrame()\n",
    "for col in df:\n",
    "    col_uniques = pd.DataFrame({f'{col}_value': df[f'{col}'].value_counts().index,\n",
    "                                f'{col}_count': df[f'{col}'].value_counts().values})\n",
    "    uniques = pd.concat([uniques, col_uniques], axis = 1)\n",
    "\n",
    "uniques.iloc[0:15, 30:40].head(14)"
   ]
  },
  {
   "cell_type": "code",
   "execution_count": 602,
   "metadata": {},
   "outputs": [],
   "source": [
    "df.to_csv('../csv_files/cleaned_properties.csv')"
   ]
  }
 ],
 "metadata": {
  "kernelspec": {
   "display_name": "Python 3",
   "language": "python",
   "name": "python3"
  },
  "language_info": {
   "codemirror_mode": {
    "name": "ipython",
    "version": 3
   },
   "file_extension": ".py",
   "mimetype": "text/x-python",
   "name": "python",
   "nbconvert_exporter": "python",
   "pygments_lexer": "ipython3",
   "version": "3.7.3"
  }
 },
 "nbformat": 4,
 "nbformat_minor": 2
}
