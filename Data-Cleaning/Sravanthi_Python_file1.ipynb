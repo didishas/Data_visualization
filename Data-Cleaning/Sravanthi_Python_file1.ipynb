{
 "cells": [
  {
   "cell_type": "code",
   "execution_count": 21,
   "metadata": {},
   "outputs": [
    {
     "name": "stderr",
     "output_type": "stream",
     "text": [
      "/home/becode/anaconda3/lib/python3.8/site-packages/IPython/core/interactiveshell.py:3071: DtypeWarning: Columns (4,6,8,9,11,12,15,16,17,18,19) have mixed types.Specify dtype option on import or set low_memory=False.\n",
      "  has_raised = await self.run_ast_nodes(code_ast.body, cell_name,\n"
     ]
    },
    {
     "data": {
      "text/html": [
       "<div>\n",
       "<style scoped>\n",
       "    .dataframe tbody tr th:only-of-type {\n",
       "        vertical-align: middle;\n",
       "    }\n",
       "\n",
       "    .dataframe tbody tr th {\n",
       "        vertical-align: top;\n",
       "    }\n",
       "\n",
       "    .dataframe thead th {\n",
       "        text-align: right;\n",
       "    }\n",
       "</style>\n",
       "<table border=\"1\" class=\"dataframe\">\n",
       "  <thead>\n",
       "    <tr style=\"text-align: right;\">\n",
       "      <th></th>\n",
       "      <th>source</th>\n",
       "      <th>hyperlink</th>\n",
       "      <th>locality</th>\n",
       "      <th>postcode</th>\n",
       "      <th>house_is</th>\n",
       "      <th>property_subtype</th>\n",
       "      <th>price</th>\n",
       "      <th>sale</th>\n",
       "      <th>rooms_number</th>\n",
       "      <th>area</th>\n",
       "      <th>...</th>\n",
       "      <th>open_fire</th>\n",
       "      <th>terrace</th>\n",
       "      <th>terrace_area</th>\n",
       "      <th>garden</th>\n",
       "      <th>garden_area</th>\n",
       "      <th>land_surface</th>\n",
       "      <th>land_plot_surface</th>\n",
       "      <th>facades_number</th>\n",
       "      <th>swimming_pool_has</th>\n",
       "      <th>building_state</th>\n",
       "    </tr>\n",
       "  </thead>\n",
       "  <tbody>\n",
       "    <tr>\n",
       "      <th>0</th>\n",
       "      <td>6</td>\n",
       "      <td>8901695</td>\n",
       "      <td>4180</td>\n",
       "      <td>4180.0</td>\n",
       "      <td>True</td>\n",
       "      <td>MIXED_USE_BUILDING</td>\n",
       "      <td>295000</td>\n",
       "      <td>NaN</td>\n",
       "      <td>3</td>\n",
       "      <td>242</td>\n",
       "      <td>...</td>\n",
       "      <td>False</td>\n",
       "      <td>True</td>\n",
       "      <td>36</td>\n",
       "      <td>True</td>\n",
       "      <td>1000</td>\n",
       "      <td>1403</td>\n",
       "      <td>1403</td>\n",
       "      <td>0</td>\n",
       "      <td>False</td>\n",
       "      <td>GOOD</td>\n",
       "    </tr>\n",
       "    <tr>\n",
       "      <th>1</th>\n",
       "      <td>6</td>\n",
       "      <td>8747010</td>\n",
       "      <td>8730</td>\n",
       "      <td>8730.0</td>\n",
       "      <td>True</td>\n",
       "      <td>VILLA</td>\n",
       "      <td>675000</td>\n",
       "      <td>NaN</td>\n",
       "      <td>4</td>\n",
       "      <td>349</td>\n",
       "      <td>...</td>\n",
       "      <td>False</td>\n",
       "      <td>False</td>\n",
       "      <td>0</td>\n",
       "      <td>True</td>\n",
       "      <td>977</td>\n",
       "      <td>1526</td>\n",
       "      <td>1526</td>\n",
       "      <td>0</td>\n",
       "      <td>False</td>\n",
       "      <td>AS_NEW</td>\n",
       "    </tr>\n",
       "    <tr>\n",
       "      <th>2</th>\n",
       "      <td>6</td>\n",
       "      <td>8775843</td>\n",
       "      <td>4020</td>\n",
       "      <td>4020.0</td>\n",
       "      <td>True</td>\n",
       "      <td>APARTMENT_BLOCK</td>\n",
       "      <td>250000</td>\n",
       "      <td>NaN</td>\n",
       "      <td>5</td>\n",
       "      <td>303</td>\n",
       "      <td>...</td>\n",
       "      <td>False</td>\n",
       "      <td>False</td>\n",
       "      <td>0</td>\n",
       "      <td>False</td>\n",
       "      <td>0</td>\n",
       "      <td>760</td>\n",
       "      <td>760</td>\n",
       "      <td>0</td>\n",
       "      <td>False</td>\n",
       "      <td>TO_RENOVATE</td>\n",
       "    </tr>\n",
       "    <tr>\n",
       "      <th>3</th>\n",
       "      <td>6</td>\n",
       "      <td>8910441</td>\n",
       "      <td>1200</td>\n",
       "      <td>1200.0</td>\n",
       "      <td>True</td>\n",
       "      <td>HOUSE</td>\n",
       "      <td>545000</td>\n",
       "      <td>NaN</td>\n",
       "      <td>4</td>\n",
       "      <td>235</td>\n",
       "      <td>...</td>\n",
       "      <td>False</td>\n",
       "      <td>False</td>\n",
       "      <td>0</td>\n",
       "      <td>False</td>\n",
       "      <td>0</td>\n",
       "      <td>63</td>\n",
       "      <td>63</td>\n",
       "      <td>0</td>\n",
       "      <td>False</td>\n",
       "      <td>JUST_RENOVATED</td>\n",
       "    </tr>\n",
       "    <tr>\n",
       "      <th>4</th>\n",
       "      <td>6</td>\n",
       "      <td>8758672</td>\n",
       "      <td>1190</td>\n",
       "      <td>1190.0</td>\n",
       "      <td>True</td>\n",
       "      <td>MIXED_USE_BUILDING</td>\n",
       "      <td>500000</td>\n",
       "      <td>NaN</td>\n",
       "      <td>2</td>\n",
       "      <td>220</td>\n",
       "      <td>...</td>\n",
       "      <td>False</td>\n",
       "      <td>False</td>\n",
       "      <td>0</td>\n",
       "      <td>True</td>\n",
       "      <td>60</td>\n",
       "      <td>193</td>\n",
       "      <td>193</td>\n",
       "      <td>0</td>\n",
       "      <td>False</td>\n",
       "      <td>AS_NEW</td>\n",
       "    </tr>\n",
       "  </tbody>\n",
       "</table>\n",
       "<p>5 rows × 22 columns</p>\n",
       "</div>"
      ],
      "text/plain": [
       "   source hyperlink locality  postcode house_is    property_subtype   price  \\\n",
       "0       6   8901695     4180    4180.0     True  MIXED_USE_BUILDING  295000   \n",
       "1       6   8747010     8730    8730.0     True               VILLA  675000   \n",
       "2       6   8775843     4020    4020.0     True     APARTMENT_BLOCK  250000   \n",
       "3       6   8910441     1200    1200.0     True               HOUSE  545000   \n",
       "4       6   8758672     1190    1190.0     True  MIXED_USE_BUILDING  500000   \n",
       "\n",
       "  sale rooms_number area  ... open_fire terrace terrace_area garden  \\\n",
       "0  NaN            3  242  ...     False    True           36   True   \n",
       "1  NaN            4  349  ...     False   False            0   True   \n",
       "2  NaN            5  303  ...     False   False            0  False   \n",
       "3  NaN            4  235  ...     False   False            0  False   \n",
       "4  NaN            2  220  ...     False   False            0   True   \n",
       "\n",
       "  garden_area land_surface land_plot_surface facades_number swimming_pool_has  \\\n",
       "0        1000         1403              1403              0             False   \n",
       "1         977         1526              1526              0             False   \n",
       "2           0          760               760              0             False   \n",
       "3           0           63                63              0             False   \n",
       "4          60          193               193              0             False   \n",
       "\n",
       "   building_state  \n",
       "0            GOOD  \n",
       "1          AS_NEW  \n",
       "2     TO_RENOVATE  \n",
       "3  JUST_RENOVATED  \n",
       "4          AS_NEW  \n",
       "\n",
       "[5 rows x 22 columns]"
      ]
     },
     "execution_count": 21,
     "metadata": {},
     "output_type": "execute_result"
    }
   ],
   "source": [
    "###  Set up the environment and load the data\n",
    "\n",
    "import pandas as pd\n",
    "import numpy as np\n",
    "df = pd.read_csv('properties.csv')\n",
    "\n",
    "### Trim spaces in column names\n",
    "\n",
    "df.columns = df.columns.str.replace(' ', '')\n",
    "df.head()\n",
    "\n"
   ]
  },
  {
   "cell_type": "code",
   "execution_count": 7,
   "metadata": {},
   "outputs": [],
   "source": [
    "df.columns = ['source', 'hyperlink', 'locality', 'postcode', 'house_is',\n",
    "       'property_subtype', 'price', 'sale', 'rooms_number', 'area',\n",
    "       'kitchen_has', 'furnished', 'open_fire', 'terrace', 'terrace_area',\n",
    "       'garden', 'garden_area', 'land_surface', 'land_plot_surface',\n",
    "       'facades_number', 'swimming_pool_has', 'building_state']"
   ]
  },
  {
   "cell_type": "markdown",
   "metadata": {},
   "source": [
    "# Garden"
   ]
  },
  {
   "cell_type": "code",
   "execution_count": 8,
   "metadata": {},
   "outputs": [],
   "source": [
    "# replace string False to False\n",
    "df.garden = df.garden.replace('False', False)"
   ]
  },
  {
   "cell_type": "code",
   "execution_count": 9,
   "metadata": {},
   "outputs": [
    {
     "data": {
      "text/plain": [
       "False    49176\n",
       "True     26700\n",
       "Name: garden, dtype: int64"
      ]
     },
     "execution_count": 9,
     "metadata": {},
     "output_type": "execute_result"
    }
   ],
   "source": [
    "# change data type from object to bool\n",
    "df.garden = df.garden.astype('bool')\n",
    "df.garden.value_counts()"
   ]
  },
  {
   "cell_type": "markdown",
   "metadata": {},
   "source": [
    "# Garden Area"
   ]
  },
  {
   "cell_type": "code",
   "execution_count": 26,
   "metadata": {},
   "outputs": [
    {
     "name": "stderr",
     "output_type": "stream",
     "text": [
      "/home/becode/anaconda3/lib/python3.8/site-packages/pandas/core/ops/array_ops.py:253: FutureWarning: elementwise comparison failed; returning scalar instead, but in the future will perform elementwise comparison\n",
      "  res_values = method(rvalues)\n"
     ]
    }
   ],
   "source": [
    "# replace None to np.nan\n",
    "df.garden_area.fillna(value=np.NaN, inplace=True)\n",
    "df.garden_area[df.garden_area==None]\n",
    "\n",
    "# replace 'None' to np.nan\n",
    "df.garden_area = df.garden_area.apply(lambda x : np.nan if x=='None' else x)\n",
    "df.garden_area[df.garden_area=='None']\n",
    "\n",
    "# change data type of rooms_number from object to float64\n",
    "df.garden_area = df.garden_area.astype('float64')\n",
    "\n"
   ]
  },
  {
   "cell_type": "markdown",
   "metadata": {},
   "source": [
    "# land_surface"
   ]
  },
  {
   "cell_type": "code",
   "execution_count": 49,
   "metadata": {},
   "outputs": [
    {
     "data": {
      "text/plain": [
       "Series([], Name: land_surface, dtype: object)"
      ]
     },
     "execution_count": 49,
     "metadata": {},
     "output_type": "execute_result"
    }
   ],
   "source": [
    "# replace np.nan TO 0\n",
    "df.land_surface = df.land_surface.replace(np.nan,0, regex=True)\n",
    "\n",
    "# replace None to np.nan\n",
    "\n",
    "df.land_surface.fillna(value=np.nan, inplace=True)\n",
    "df.land_surface[df.land_surface=='None']\n",
    "\n",
    "\n",
    "# replace 'None' to np.nan\n",
    "df.land_surface = df.land_surface.apply(lambda x : np.nan if x=='None' else x)\n",
    "df.land_surface[df.land_surface=='None']\n"
   ]
  },
  {
   "cell_type": "markdown",
   "metadata": {},
   "source": [
    "# land_plot_surface"
   ]
  },
  {
   "cell_type": "code",
   "execution_count": 84,
   "metadata": {},
   "outputs": [
    {
     "data": {
      "text/plain": [
       "Series([], Name: land_plot_surface, dtype: object)"
      ]
     },
     "execution_count": 84,
     "metadata": {},
     "output_type": "execute_result"
    }
   ],
   "source": [
    "# replace np.nan TO 0\n",
    "df.land_plot_surface = df.land_plot_surface.replace(np.nan,0, regex=True)\n",
    "\n",
    "# replace 'yes' from value to 0\n",
    "df.land_plot_surface = df.land_plot_surface.replace(r'\\w|\\W|\\s', '', regex=True)\n",
    "\n",
    "# replace None to np.nan\n",
    "\n",
    "df.land_plot_surface.fillna(value=np.nan, inplace=True)\n",
    "df.land_plot_surface[df.land_surface=='None']\n",
    "\n",
    "\n",
    "# replace 'None' to np.nan\n",
    "df.land_plot_surface = df.land_plot_surface.apply(lambda x : np.nan if x=='None' else x)\n",
    "df.land_plot_surface[df.land_plot_surface=='None']\n"
   ]
  },
  {
   "cell_type": "markdown",
   "metadata": {},
   "source": [
    "# facades_number"
   ]
  },
  {
   "cell_type": "code",
   "execution_count": 69,
   "metadata": {},
   "outputs": [],
   "source": [
    "# replace 'None' to np.nan\n",
    "df.facades_number = df.facades_number.apply(lambda x : np.nan if x=='None' else x)\n",
    "df.facades_number[df.facades_number=='None']\n",
    "\n",
    "# change data type of facades_number from object to float64\n",
    "df.facades_number = df.facades_number.astype('float64')\n"
   ]
  },
  {
   "cell_type": "markdown",
   "metadata": {},
   "source": [
    "# swimming_pool_has"
   ]
  },
  {
   "cell_type": "code",
   "execution_count": 82,
   "metadata": {},
   "outputs": [
    {
     "data": {
      "text/plain": [
       "False    63961\n",
       "True     11915\n",
       "Name: swimming_pool_has, dtype: int64"
      ]
     },
     "execution_count": 82,
     "metadata": {},
     "output_type": "execute_result"
    }
   ],
   "source": [
    " #change numerical data to np.nan\n",
    "df.swimming_pool_has = df.swimming_pool_has.replace(r'\\d\\.?\\d?', 'np.nan', regex=True)\n",
    "\n",
    "# replace string False to False\n",
    "df.swimming_pool_has = df.swimming_pool_has.replace('False', False)\n",
    "\n",
    "# change data type from object to bool\n",
    "df.swimming_pool_has = df.swimming_pool_has.astype('bool')\n",
    "\n",
    "df.swimming_pool_has.value_counts(dropna=False)\n",
    "\n"
   ]
  },
  {
   "cell_type": "markdown",
   "metadata": {},
   "source": [
    "# building_state"
   ]
  },
  {
   "cell_type": "code",
   "execution_count": 83,
   "metadata": {},
   "outputs": [
    {
     "data": {
      "text/plain": [
       "array(['GOOD', 'AS_NEW', 'TO_RENOVATE', 'JUST_RENOVATED', 'TO_BE_DONE_UP',\n",
       "       'TO_RESTORE', nan, 'NotUnknownspecified', 'None', 'New', 'old'],\n",
       "      dtype=object)"
      ]
     },
     "execution_count": 83,
     "metadata": {},
     "output_type": "execute_result"
    }
   ],
   "source": [
    "# change numerical data to np.nan\n",
    "df.building_state = df.building_state.replace(r'\\d\\.?\\d?', 'np.nan', regex=True)\n",
    "\n",
    "df.building_state.unique()"
   ]
  },
  {
   "cell_type": "code",
   "execution_count": null,
   "metadata": {},
   "outputs": [],
   "source": []
  }
 ],
 "metadata": {
  "kernelspec": {
   "display_name": "Python 3",
   "language": "python",
   "name": "python3"
  },
  "language_info": {
   "codemirror_mode": {
    "name": "ipython",
    "version": 3
   },
   "file_extension": ".py",
   "mimetype": "text/x-python",
   "name": "python",
   "nbconvert_exporter": "python",
   "pygments_lexer": "ipython3",
   "version": "3.7.3"
  }
 },
 "nbformat": 4,
 "nbformat_minor": 4
}
