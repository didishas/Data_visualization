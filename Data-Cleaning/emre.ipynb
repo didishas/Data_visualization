{
 "cells": [
  {
   "cell_type": "code",
   "execution_count": 113,
   "metadata": {},
   "outputs": [],
   "source": [
    "import pandas as pd\n",
    "import numpy as np"
   ]
  },
  {
   "cell_type": "code",
   "execution_count": 114,
   "metadata": {},
   "outputs": [
    {
     "name": "stderr",
     "output_type": "stream",
     "text": [
      "/snap/jupyter/6/lib/python3.7/site-packages/IPython/core/interactiveshell.py:3049: DtypeWarning: Columns (11,12,16,17,18,19) have mixed types.Specify dtype option on import or set low_memory=False.\n",
      "  interactivity=interactivity, compiler=compiler, result=result)\n"
     ]
    },
    {
     "data": {
      "text/html": [
       "<div>\n",
       "<style scoped>\n",
       "    .dataframe tbody tr th:only-of-type {\n",
       "        vertical-align: middle;\n",
       "    }\n",
       "\n",
       "    .dataframe tbody tr th {\n",
       "        vertical-align: top;\n",
       "    }\n",
       "\n",
       "    .dataframe thead th {\n",
       "        text-align: right;\n",
       "    }\n",
       "</style>\n",
       "<table border=\"1\" class=\"dataframe\">\n",
       "  <thead>\n",
       "    <tr style=\"text-align: right;\">\n",
       "      <th></th>\n",
       "      <th>source</th>\n",
       "      <th>hyperlink</th>\n",
       "      <th>locality</th>\n",
       "      <th>postcode</th>\n",
       "      <th>house_is</th>\n",
       "      <th>property_subtype</th>\n",
       "      <th>price</th>\n",
       "      <th>sale</th>\n",
       "      <th>rooms_number</th>\n",
       "      <th>area</th>\n",
       "      <th>...</th>\n",
       "      <th>open_fire</th>\n",
       "      <th>terrace</th>\n",
       "      <th>terrace_area</th>\n",
       "      <th>garden</th>\n",
       "      <th>garden_area</th>\n",
       "      <th>land_surface</th>\n",
       "      <th>land_plot_surface</th>\n",
       "      <th>facades_number</th>\n",
       "      <th>swimming_pool_has</th>\n",
       "      <th>building_state</th>\n",
       "    </tr>\n",
       "  </thead>\n",
       "  <tbody>\n",
       "    <tr>\n",
       "      <th>0</th>\n",
       "      <td>6</td>\n",
       "      <td>8901695</td>\n",
       "      <td>4180</td>\n",
       "      <td>4180.0</td>\n",
       "      <td>True</td>\n",
       "      <td>MIXED_USE_BUILDING</td>\n",
       "      <td>295000</td>\n",
       "      <td>NaN</td>\n",
       "      <td>3</td>\n",
       "      <td>242</td>\n",
       "      <td>...</td>\n",
       "      <td>False</td>\n",
       "      <td>True</td>\n",
       "      <td>36</td>\n",
       "      <td>True</td>\n",
       "      <td>1000</td>\n",
       "      <td>1403</td>\n",
       "      <td>1403</td>\n",
       "      <td>0</td>\n",
       "      <td>False</td>\n",
       "      <td>GOOD</td>\n",
       "    </tr>\n",
       "    <tr>\n",
       "      <th>1</th>\n",
       "      <td>6</td>\n",
       "      <td>8747010</td>\n",
       "      <td>8730</td>\n",
       "      <td>8730.0</td>\n",
       "      <td>True</td>\n",
       "      <td>VILLA</td>\n",
       "      <td>675000</td>\n",
       "      <td>NaN</td>\n",
       "      <td>4</td>\n",
       "      <td>349</td>\n",
       "      <td>...</td>\n",
       "      <td>False</td>\n",
       "      <td>False</td>\n",
       "      <td>0</td>\n",
       "      <td>True</td>\n",
       "      <td>977</td>\n",
       "      <td>1526</td>\n",
       "      <td>1526</td>\n",
       "      <td>0</td>\n",
       "      <td>False</td>\n",
       "      <td>AS_NEW</td>\n",
       "    </tr>\n",
       "    <tr>\n",
       "      <th>2</th>\n",
       "      <td>6</td>\n",
       "      <td>8775843</td>\n",
       "      <td>4020</td>\n",
       "      <td>4020.0</td>\n",
       "      <td>True</td>\n",
       "      <td>APARTMENT_BLOCK</td>\n",
       "      <td>250000</td>\n",
       "      <td>NaN</td>\n",
       "      <td>5</td>\n",
       "      <td>303</td>\n",
       "      <td>...</td>\n",
       "      <td>False</td>\n",
       "      <td>False</td>\n",
       "      <td>0</td>\n",
       "      <td>False</td>\n",
       "      <td>0</td>\n",
       "      <td>760</td>\n",
       "      <td>760</td>\n",
       "      <td>0</td>\n",
       "      <td>False</td>\n",
       "      <td>TO_RENOVATE</td>\n",
       "    </tr>\n",
       "    <tr>\n",
       "      <th>3</th>\n",
       "      <td>6</td>\n",
       "      <td>8910441</td>\n",
       "      <td>1200</td>\n",
       "      <td>1200.0</td>\n",
       "      <td>True</td>\n",
       "      <td>HOUSE</td>\n",
       "      <td>545000</td>\n",
       "      <td>NaN</td>\n",
       "      <td>4</td>\n",
       "      <td>235</td>\n",
       "      <td>...</td>\n",
       "      <td>False</td>\n",
       "      <td>False</td>\n",
       "      <td>0</td>\n",
       "      <td>False</td>\n",
       "      <td>0</td>\n",
       "      <td>63</td>\n",
       "      <td>63</td>\n",
       "      <td>0</td>\n",
       "      <td>False</td>\n",
       "      <td>JUST_RENOVATED</td>\n",
       "    </tr>\n",
       "    <tr>\n",
       "      <th>4</th>\n",
       "      <td>6</td>\n",
       "      <td>8758672</td>\n",
       "      <td>1190</td>\n",
       "      <td>1190.0</td>\n",
       "      <td>True</td>\n",
       "      <td>MIXED_USE_BUILDING</td>\n",
       "      <td>500000</td>\n",
       "      <td>NaN</td>\n",
       "      <td>2</td>\n",
       "      <td>220</td>\n",
       "      <td>...</td>\n",
       "      <td>False</td>\n",
       "      <td>False</td>\n",
       "      <td>0</td>\n",
       "      <td>True</td>\n",
       "      <td>60</td>\n",
       "      <td>193</td>\n",
       "      <td>193</td>\n",
       "      <td>0</td>\n",
       "      <td>False</td>\n",
       "      <td>AS_NEW</td>\n",
       "    </tr>\n",
       "  </tbody>\n",
       "</table>\n",
       "<p>5 rows × 22 columns</p>\n",
       "</div>"
      ],
      "text/plain": [
       "   source hyperlink locality  postcode  house_is    property_subtype   price  \\\n",
       "0       6   8901695     4180    4180.0      True  MIXED_USE_BUILDING  295000   \n",
       "1       6   8747010     8730    8730.0      True               VILLA  675000   \n",
       "2       6   8775843     4020    4020.0      True     APARTMENT_BLOCK  250000   \n",
       "3       6   8910441     1200    1200.0      True               HOUSE  545000   \n",
       "4       6   8758672     1190    1190.0      True  MIXED_USE_BUILDING  500000   \n",
       "\n",
       "  sale rooms_number area  ... open_fire terrace terrace_area garden  \\\n",
       "0  NaN            3  242  ...     False    True           36   True   \n",
       "1  NaN            4  349  ...     False   False            0   True   \n",
       "2  NaN            5  303  ...     False   False            0  False   \n",
       "3  NaN            4  235  ...     False   False            0  False   \n",
       "4  NaN            2  220  ...     False   False            0   True   \n",
       "\n",
       "  garden_area land_surface land_plot_surface facades_number swimming_pool_has  \\\n",
       "0        1000         1403              1403              0             False   \n",
       "1         977         1526              1526              0             False   \n",
       "2           0          760               760              0             False   \n",
       "3           0           63                63              0             False   \n",
       "4          60          193               193              0             False   \n",
       "\n",
       "   building_state  \n",
       "0            GOOD  \n",
       "1          AS_NEW  \n",
       "2     TO_RENOVATE  \n",
       "3  JUST_RENOVATED  \n",
       "4          AS_NEW  \n",
       "\n",
       "[5 rows x 22 columns]"
      ]
     },
     "execution_count": 114,
     "metadata": {},
     "output_type": "execute_result"
    }
   ],
   "source": [
    "properties = pd.read_csv('../csv_files/properties_correlated.csv')\n",
    "properties.head()"
   ]
  },
  {
   "cell_type": "code",
   "execution_count": null,
   "metadata": {},
   "outputs": [],
   "source": [
    "emre:      locality,garden, garden_area, building_state\n",
    "sravanthi: property_subtype, land_surface, land_plot_surface, kitchen_has\n",
    "philippe:  rooms_number, open_fire, terrace, terrace_area\n",
    "didier:    area, facades_number, furnished, swimming_pool_has"
   ]
  },
  {
   "cell_type": "code",
   "execution_count": 115,
   "metadata": {},
   "outputs": [
    {
     "data": {
      "text/plain": [
       "(93068, 22)"
      ]
     },
     "execution_count": 115,
     "metadata": {},
     "output_type": "execute_result"
    }
   ],
   "source": [
    "properties.shape"
   ]
  },
  {
   "cell_type": "code",
   "execution_count": 116,
   "metadata": {},
   "outputs": [
    {
     "data": {
      "text/plain": [
       "Index(['source', 'hyperlink', 'locality', 'postcode', 'house_is',\n",
       "       'property_subtype', 'price', 'sale', 'rooms_number', 'area',\n",
       "       'kitchen_has', 'furnished', 'open_fire', 'terrace', 'terrace_area',\n",
       "       'garden', 'garden_area', 'land_surface', 'land_plot_surface',\n",
       "       'facades_number', 'swimming_pool_has', 'building_state'],\n",
       "      dtype='object')"
      ]
     },
     "execution_count": 116,
     "metadata": {},
     "output_type": "execute_result"
    }
   ],
   "source": [
    "properties.columns"
   ]
  },
  {
   "cell_type": "code",
   "execution_count": 117,
   "metadata": {},
   "outputs": [],
   "source": [
    "properties.columns = ['source', 'hyperlink', 'locality', 'postcode', 'house_is',\n",
    "       'property_subtype', 'price', 'sale', 'rooms_number', 'area',\n",
    "       'kitchen_has', 'furnished', 'open_fire', 'terrace', 'terrace_area',\n",
    "       'garden', 'garden_area', 'land_surface', 'land_plot_surface',\n",
    "       'facades_number', 'swimming_pool_has', 'building_state']"
   ]
  },
  {
   "cell_type": "code",
   "execution_count": 118,
   "metadata": {},
   "outputs": [],
   "source": [
    "pd.options.display.max_rows = 4000"
   ]
  },
  {
   "cell_type": "markdown",
   "metadata": {},
   "source": [
    "## properties.room_number"
   ]
  },
  {
   "cell_type": "code",
   "execution_count": 119,
   "metadata": {},
   "outputs": [
    {
     "data": {
      "text/plain": [
       "Series([], Name: rooms_number, dtype: object)"
      ]
     },
     "execution_count": 119,
     "metadata": {},
     "output_type": "execute_result"
    }
   ],
   "source": [
    "# replace None to np.nan\n",
    "properties.rooms_number.fillna(value=np.nan, inplace=True)\n",
    "properties.rooms_number[properties.rooms_number==None]"
   ]
  },
  {
   "cell_type": "code",
   "execution_count": 120,
   "metadata": {},
   "outputs": [
    {
     "data": {
      "text/plain": [
       "Series([], Name: rooms_number, dtype: object)"
      ]
     },
     "execution_count": 120,
     "metadata": {},
     "output_type": "execute_result"
    }
   ],
   "source": [
    "# replace 'None' to np.nan\n",
    "properties.rooms_number = properties.rooms_number.apply(lambda x : np.nan if x=='None' else x)\n",
    "properties.rooms_number[properties.rooms_number=='None']"
   ]
  },
  {
   "cell_type": "code",
   "execution_count": 126,
   "metadata": {},
   "outputs": [],
   "source": [
    "properties.rooms_number = properties.rooms_number.replace('Not specified', np.nan)"
   ]
  },
  {
   "cell_type": "code",
   "execution_count": 127,
   "metadata": {},
   "outputs": [],
   "source": [
    "# change data type of rooms_number from object to float64\n",
    "properties.rooms_number = properties.rooms_number.astype('float64')"
   ]
  },
  {
   "cell_type": "markdown",
   "metadata": {},
   "source": [
    "## properties.area"
   ]
  },
  {
   "cell_type": "code",
   "execution_count": 128,
   "metadata": {},
   "outputs": [],
   "source": [
    "# remove 'm2' from value of area\n",
    "properties.area = properties.area.replace(\"[^0-9.-]\", \"\", regex=True)"
   ]
  },
  {
   "cell_type": "code",
   "execution_count": 129,
   "metadata": {},
   "outputs": [],
   "source": [
    "# replace '' from value of area\n",
    "properties.area = properties.area.replace(\"\", np.nan)"
   ]
  },
  {
   "cell_type": "code",
   "execution_count": 130,
   "metadata": {},
   "outputs": [],
   "source": [
    "# replace None to np.nan\n",
    "properties.area.fillna(value=np.nan, inplace=True)"
   ]
  },
  {
   "cell_type": "code",
   "execution_count": 131,
   "metadata": {},
   "outputs": [
    {
     "data": {
      "text/plain": [
       "Series([], Name: area, dtype: object)"
      ]
     },
     "execution_count": 131,
     "metadata": {},
     "output_type": "execute_result"
    }
   ],
   "source": [
    "# replace 'None' to np.nan\n",
    "properties.area = properties.area.apply(lambda x : np.nan if x=='None' else x)\n",
    "properties.area[properties.area=='None']"
   ]
  },
  {
   "cell_type": "code",
   "execution_count": 132,
   "metadata": {},
   "outputs": [],
   "source": [
    "properties.area = properties.area.replace('Not specified', np.nan)"
   ]
  },
  {
   "cell_type": "code",
   "execution_count": 133,
   "metadata": {},
   "outputs": [],
   "source": [
    "# change data type from object to float64\n",
    "properties.area = properties.area.astype('float64')"
   ]
  },
  {
   "cell_type": "markdown",
   "metadata": {},
   "source": [
    "## kitchen_has"
   ]
  },
  {
   "cell_type": "code",
   "execution_count": null,
   "metadata": {},
   "outputs": [],
   "source": [
    "# change data type from object to float64\n",
    "properties.kitchen_has = properties.kitchen_has.astype('float64')"
   ]
  },
  {
   "cell_type": "markdown",
   "metadata": {},
   "source": [
    "## furnished"
   ]
  },
  {
   "cell_type": "code",
   "execution_count": null,
   "metadata": {},
   "outputs": [],
   "source": [
    "# change data type from object to float64\n",
    "properties.kitchen_has = properties.kitchen_has.astype('float64')"
   ]
  },
  {
   "cell_type": "markdown",
   "metadata": {},
   "source": [
    "## open_fire"
   ]
  },
  {
   "cell_type": "code",
   "execution_count": null,
   "metadata": {},
   "outputs": [],
   "source": [
    "# change data type from object to float64\n",
    "properties.kitchen_has = properties.kitchen_has.astype('float64')"
   ]
  },
  {
   "cell_type": "markdown",
   "metadata": {},
   "source": [
    "## terrace"
   ]
  },
  {
   "cell_type": "code",
   "execution_count": null,
   "metadata": {},
   "outputs": [],
   "source": [
    "# change numerical data to np.nan\n",
    "properties.terrace = properties.terrace.replace(r'\\d\\.?\\d?', 'np.nan', regex=True)"
   ]
  },
  {
   "cell_type": "code",
   "execution_count": null,
   "metadata": {},
   "outputs": [],
   "source": [
    "# replace string False to False\n",
    "properties.terrace = properties.terrace.replace('False', False)"
   ]
  },
  {
   "cell_type": "code",
   "execution_count": null,
   "metadata": {},
   "outputs": [],
   "source": [
    "# change data type from object to bool\n",
    "properties.terrace = properties.terrace.astype('bool')"
   ]
  },
  {
   "cell_type": "code",
   "execution_count": null,
   "metadata": {},
   "outputs": [],
   "source": [
    "properties.terrace.value_counts(dropna=False)"
   ]
  },
  {
   "cell_type": "markdown",
   "metadata": {},
   "source": [
    "## garden"
   ]
  },
  {
   "cell_type": "code",
   "execution_count": null,
   "metadata": {},
   "outputs": [],
   "source": [
    "# replace string False to False\n",
    "properties.garden = properties.garden.replace('False', False)"
   ]
  },
  {
   "cell_type": "code",
   "execution_count": null,
   "metadata": {},
   "outputs": [],
   "source": [
    "# change data type from object to bool\n",
    "properties.garden = properties.garden.astype('bool')"
   ]
  },
  {
   "cell_type": "code",
   "execution_count": null,
   "metadata": {},
   "outputs": [],
   "source": [
    "properties.garden.value_counts()"
   ]
  },
  {
   "cell_type": "markdown",
   "metadata": {},
   "source": [
    "## terrace_area"
   ]
  },
  {
   "cell_type": "code",
   "execution_count": null,
   "metadata": {},
   "outputs": [],
   "source": [
    "# replace 'None' to np.nan\n",
    "properties.terrace_area = properties.terrace_area.apply(lambda x : np.nan if x=='None' else x)\n",
    "properties.terrace_area[properties.terrace_area=='None']"
   ]
  },
  {
   "cell_type": "code",
   "execution_count": null,
   "metadata": {},
   "outputs": [],
   "source": [
    "properties.terrace_area = properties.terrace_area.replace(True, np.nan)\n",
    "properties.terrace_area = properties.terrace_area.replace('TRUE', np.nan)"
   ]
  },
  {
   "cell_type": "code",
   "execution_count": null,
   "metadata": {},
   "outputs": [],
   "source": [
    "# change data type from object to float64\n",
    "properties.terrace_area = properties.terrace_area.astype('float64')"
   ]
  },
  {
   "cell_type": "markdown",
   "metadata": {},
   "source": [
    "## price"
   ]
  },
  {
   "cell_type": "code",
   "execution_count": null,
   "metadata": {},
   "outputs": [],
   "source": [
    "# replace 'm2' from value of area\n",
    "properties.price = properties.price.replace(r'\\w|\\W|\\s', '', regex=True)"
   ]
  },
  {
   "cell_type": "code",
   "execution_count": null,
   "metadata": {},
   "outputs": [],
   "source": [
    "# replace 'm2' from value of area\n",
    "properties.price = properties.price.replace('', np.nan)"
   ]
  },
  {
   "cell_type": "code",
   "execution_count": null,
   "metadata": {},
   "outputs": [],
   "source": [
    "# replace None to np.nan\n",
    "properties.price.fillna(value=np.nan, inplace=True)\n",
    "properties.price[properties.price==None]"
   ]
  },
  {
   "cell_type": "code",
   "execution_count": null,
   "metadata": {},
   "outputs": [],
   "source": [
    "# replace 'None' to np.nan\n",
    "properties.price = properties.price.apply(lambda x : np.nan if x=='None' else x)\n",
    "properties.price[properties.price=='None']"
   ]
  },
  {
   "cell_type": "code",
   "execution_count": null,
   "metadata": {},
   "outputs": [],
   "source": [
    "# change data type from object to float64\n",
    "properties.price = properties.price.astype('float64')"
   ]
  },
  {
   "cell_type": "code",
   "execution_count": null,
   "metadata": {},
   "outputs": [],
   "source": [
    "properties.price.value_counts()"
   ]
  },
  {
   "cell_type": "code",
   "execution_count": null,
   "metadata": {},
   "outputs": [],
   "source": [
    "properties2 = properties[['locality', 'postcode', 'house_is',\n",
    "       'property_subtype', 'price', 'rooms_number', 'area',\n",
    "       'kitchen_has', 'furnished', 'open_fire', 'terrace', 'terrace_area',\n",
    "       'garden', 'garden_area', 'land_surface', 'land_plot_surface',\n",
    "       'facades_number', 'swimming_pool_has', 'building_state']]"
   ]
  },
  {
   "cell_type": "code",
   "execution_count": null,
   "metadata": {},
   "outputs": [],
   "source": [
    "properties.rooms_number"
   ]
  },
  {
   "cell_type": "code",
   "execution_count": null,
   "metadata": {},
   "outputs": [],
   "source": [
    "# Compute the covariance matrix: covariance_matrix\n",
    "covariance_matrix = np.cov(properties.terrace, properties.terrace_area)\n",
    "\n",
    "# Print covariance matrix\n",
    "print(covariance_matrix)\n",
    "\n",
    "# Extract covariance of length and width of petals: petal_cov\n",
    "petal_cov = covariance_matrix[0,1]\n",
    "\n",
    "# Print the length/width covariance\n",
    "print(petal_cov)"
   ]
  },
  {
   "cell_type": "code",
   "execution_count": null,
   "metadata": {},
   "outputs": [],
   "source": [
    "cov_matrix = pd.DataFrame.cov(properties2)\n",
    "\n",
    "# Print the covariance matrix\n",
    "print(cov_matrix)"
   ]
  },
  {
   "cell_type": "code",
   "execution_count": null,
   "metadata": {},
   "outputs": [],
   "source": []
  }
 ],
 "metadata": {
  "kernelspec": {
   "display_name": "Python 3",
   "language": "python",
   "name": "python3"
  },
  "language_info": {
   "codemirror_mode": {
    "name": "ipython",
    "version": 3
   },
   "file_extension": ".py",
   "mimetype": "text/x-python",
   "name": "python",
   "nbconvert_exporter": "python",
   "pygments_lexer": "ipython3",
   "version": "3.7.3"
  }
 },
 "nbformat": 4,
 "nbformat_minor": 2
}
