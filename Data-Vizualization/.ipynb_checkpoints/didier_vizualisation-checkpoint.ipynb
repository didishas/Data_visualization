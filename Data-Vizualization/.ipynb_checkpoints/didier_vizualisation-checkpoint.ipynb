{
 "cells": [
  {
   "cell_type": "code",
   "execution_count": null,
   "metadata": {},
   "outputs": [],
   "source": [
    "import pandas as pd\n",
    "import matplotlib.pyplot as plt\n",
    "import seaborn as sns"
   ]
  },
  {
   "cell_type": "code",
   "execution_count": null,
   "metadata": {},
   "outputs": [],
   "source": [
    "%matplotlib inline"
   ]
  },
  {
   "cell_type": "code",
   "execution_count": null,
   "metadata": {},
   "outputs": [],
   "source": [
    "housing = pd.read_csv('../csv_files/cleaned_properties.csv',index_col=0)\n",
    "# housing.info()"
   ]
  },
  {
   "cell_type": "code",
   "execution_count": null,
   "metadata": {},
   "outputs": [],
   "source": []
  },
  {
   "cell_type": "code",
   "execution_count": null,
   "metadata": {},
   "outputs": [],
   "source": [
    "# housing[['price']].sort_values('price').price.value_counts()"
   ]
  },
  {
   "cell_type": "code",
   "execution_count": null,
   "metadata": {},
   "outputs": [],
   "source": [
    "# housing.price = housing.price / 1000"
   ]
  },
  {
   "cell_type": "code",
   "execution_count": null,
   "metadata": {
    "scrolled": false
   },
   "outputs": [],
   "source": [
    "house_brussels_filtered = housing.loc[(housing.house_is == True) & (housing.region == \"Brussels\") & (housing.area.between(50, 500)) & (housing.price.between(0, 2000000))]\n",
    "house_wallonia_filtered = housing.loc[(housing.house_is == True) & (housing.region == \"Wallonia\") & (housing.area.between(50, 500)) & (housing.price.between(0, 2000000))]\n",
    "house_flanders_filtered = housing.loc[(housing.house_is == True) & (housing.region == \"Flanders\") & (housing.area.between(50, 500)) & (housing.price.between(0, 2000000))]\n",
    "house_filtered = housing.loc[(housing.house_is == True) & (housing.area.between(80, 300)) & (housing.price.between(0, 600000)) & (housing.house_is == True)]\n",
    "house_brussels_filtered"
   ]
  },
  {
   "cell_type": "code",
   "execution_count": null,
   "metadata": {},
   "outputs": [],
   "source": [
    "plt.figure(figsize=(18, 4))\n",
    "\n",
    "plt.subplot(1,3,1)\n",
    "\n",
    "ax1 = sns.lineplot(x='area', y='price', data = house_brussels_filtered, hue=\"property_subtype\", palette=\"muted\")\n",
    "plt.subplot(1,3,2)\n",
    "ax2 = sns.scatterplot(x='area', y='price', data = house_wallonia_filtered, hue=\"property_subtype\", palette=\"muted\")\n",
    "plt.subplot(1,3,3)\n",
    "ax3 = sns.scatterplot(x='area', y='price', data = house_flanders_filtered, hue=\"property_subtype\", palette=\"muted\")\n",
    "\n",
    "pricelabels = ['{:,.0f}'.format(x) + 'K' for x in ax1.get_yticks()/1000]\n",
    "\n",
    "ax1.set_yticklabels(pricelabels)\n",
    "ax2.set_yticklabels(pricelabels)\n",
    "ax3.set_yticklabels(pricelabels)\n",
    "\n",
    "ax1.set_axis_labels('Area', 'Price', fontsize=16)\n",
    "ax2.set_axis_labels('Area', 'Price', fontsize=16)\n",
    "ax3.set_axis_labels('Area', 'Price', fontsize=16)\n",
    "\n",
    "\n",
    "\n",
    "\n",
    "plt.show()"
   ]
  },
  {
   "cell_type": "code",
   "execution_count": null,
   "metadata": {},
   "outputs": [],
   "source": [
    "g = sns.jointplot(x='area', y='price', data=house_filtered, hue='property_subtype', kind='kde')\n",
    "g.set_axis_labels('Area', 'Price', fontsize=16)\n",
    "\n",
    "# h.ax_joint.set_xlabel('new x label', fontweight='bold')\n",
    "# Tweak using Matplotlib\n",
    "plt.xlim(0, 1)\n",
    "plt.show()"
   ]
  },
  {
   "cell_type": "code",
   "execution_count": null,
   "metadata": {},
   "outputs": [],
   "source": [
    "res = sns.scatterplot(x=\"area\", y=\"price\", data=housing)\n",
    "plt.show()"
   ]
  },
  {
   "cell_type": "code",
   "execution_count": null,
   "metadata": {},
   "outputs": [],
   "source": [
    "res = sns.lineplot(x=\"area\", y=\"price\", data=housing)# Tweak using Matplotlib\n",
    "plt.ylim(0, 200)\n",
    "plt.xlim(0, None)\n",
    "plt.show()"
   ]
  },
  {
   "cell_type": "code",
   "execution_count": null,
   "metadata": {
    "scrolled": false
   },
   "outputs": [],
   "source": [
    "\n",
    "res = sns.violinplot(x=housing['price'])\n",
    "plt.show()"
   ]
  },
  {
   "cell_type": "code",
   "execution_count": null,
   "metadata": {
    "scrolled": true
   },
   "outputs": [],
   "source": [
    "# res = sns.boxplot(x='price')\n",
    "# plt.show()"
   ]
  },
  {
   "cell_type": "code",
   "execution_count": null,
   "metadata": {},
   "outputs": [],
   "source": [
    "# res = sns.boxenplot(x=housing['price'])\n",
    "# plt.show()"
   ]
  },
  {
   "cell_type": "code",
   "execution_count": null,
   "metadata": {
    "scrolled": true
   },
   "outputs": [],
   "source": [
    "# housing = sns.get_dataset_names('../csv_files/cleaned_properties.csv')"
   ]
  },
  {
   "cell_type": "code",
   "execution_count": null,
   "metadata": {
    "scrolled": true
   },
   "outputs": [],
   "source": [
    "res = sns.countplot(x=housing['price'])\n",
    "plt.show()"
   ]
  },
  {
   "cell_type": "code",
   "execution_count": null,
   "metadata": {},
   "outputs": [],
   "source": [
    "res = sns.pointplot(x=housing['price'], y=housing['area'])\n",
    "plt.show()"
   ]
  },
  {
   "cell_type": "code",
   "execution_count": null,
   "metadata": {
    "scrolled": false
   },
   "outputs": [],
   "source": [
    "res = sns.barplot(x=housing['price'], y=housing['area'])\n",
    "plt.show()"
   ]
  },
  {
   "cell_type": "code",
   "execution_count": null,
   "metadata": {
    "scrolled": true
   },
   "outputs": [],
   "source": [
    "sns.pairplot(housing)"
   ]
  }
 ],
 "metadata": {
  "kernelspec": {
   "display_name": "Python 3",
   "language": "python",
   "name": "python3"
  },
  "language_info": {
   "codemirror_mode": {
    "name": "ipython",
    "version": 3
   },
   "file_extension": ".py",
   "mimetype": "text/x-python",
   "name": "python",
   "nbconvert_exporter": "python",
   "pygments_lexer": "ipython3",
   "version": "3.7.4"
  }
 },
 "nbformat": 4,
 "nbformat_minor": 2
}
